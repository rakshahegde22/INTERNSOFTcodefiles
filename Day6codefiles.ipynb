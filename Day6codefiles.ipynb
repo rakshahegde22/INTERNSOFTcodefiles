{
  "cells": [
    {
      "cell_type": "markdown",
      "metadata": {
        "id": "lJdsMkbKx7Vy"
      },
      "source": [
        "# Object Oriented Programming and File I/O"
      ]
    },
    {
      "cell_type": "markdown",
      "metadata": {
        "id": "xJZpptncx7V1"
      },
      "source": [
        "__Object Oriented Programming (OOP)__ is a programming paradigm that allows abstraction through the concept of interacting entities. This programming works contradictory to conventional model and is procedural, in which programs are organized as a sequence of commands or statements to perform.\n",
        "\n",
        "We can think an object as an entity that resides in memory, has a state and it's able to perform some actions. \n",
        " \n",
        "More formally objects are entities that represent **instances** of a general abstract concept called **class**. In `Python`, \"attributes\" are the variables defining an object state and the possible actions are called \"methods\".\n",
        "\n",
        "In Python, everything is an object also classes and functions."
      ]
    },
    {
      "cell_type": "markdown",
      "metadata": {
        "id": "mqwiLSjYx7V2"
      },
      "source": [
        "## 1 How to define classes"
      ]
    },
    {
      "cell_type": "markdown",
      "metadata": {
        "id": "zNg2KJGWx7V2"
      },
      "source": [
        "### 1.1 Creating a class"
      ]
    },
    {
      "cell_type": "markdown",
      "metadata": {
        "id": "4FhHOZKlx7V3"
      },
      "source": [
        "Suppose we want to create a class, named Person, as a prototype, a sort of template for any number of 'Person' objects (instances)."
      ]
    },
    {
      "cell_type": "markdown",
      "metadata": {
        "id": "unYxuqW2x7V3"
      },
      "source": [
        "The following python syntax defines a class:\n",
        "\n",
        "    class ClassName(base_classes):\n",
        "        statements\n",
        "\n",
        "        "
      ]
    },
    {
      "cell_type": "markdown",
      "metadata": {
        "id": "Duwrl-VEx7V3"
      },
      "source": [
        "Class names should always be uppercase (it's a naming convention)."
      ]
    },
    {
      "cell_type": "markdown",
      "metadata": {
        "id": "v_eA3CwIx7V4"
      },
      "source": [
        "Say we need to model a Person as:\n",
        "\n",
        "* Name\n",
        "* Surname  \n",
        "* Age  "
      ]
    },
    {
      "cell_type": "code",
      "source": [
        "class Person:\n",
        "  pass\n",
        "\n",
        "raks_doe=Person()\n",
        "raks_doe.name=\"raksha\"\n",
        "raks_doe.surname=\"hegde\"\n",
        "raks_doe.year_of_birth=2001\n",
        "\n",
        "print(raks_doe)\n",
        "print(\"%s %s born in year %d.\"%(raks_doe.name,raks_doe.surname,raks_doe.year_of_birth))"
      ],
      "metadata": {
        "colab": {
          "base_uri": "https://localhost:8080/"
        },
        "id": "1hHZVSHa1pfI",
        "outputId": "c05a4e03-7723-4297-a376-a8e18e4648ce"
      },
      "execution_count": 13,
      "outputs": [
        {
          "output_type": "stream",
          "name": "stdout",
          "text": [
            "<__main__.Person object at 0x7f341d20e2d0>\n",
            "raksha hegde born in year 2001.\n"
          ]
        }
      ]
    },
    {
      "cell_type": "markdown",
      "metadata": {
        "id": "N9zRdBpex7V5"
      },
      "source": [
        "The following example defines an empty class (i.e. the class doesn't have a state) called _Person_ then creates a _Person_ instance called _john_doe_ and adds three attributes to _john_doe_. We see that we can access objects attributes using the \"dot\" operator.\n",
        "\n",
        "This isn't a recommended style because classes should describe homogeneous entities. A way to do so is the following:"
      ]
    },
    {
      "cell_type": "code",
      "execution_count": 14,
      "metadata": {
        "id": "cIqp8Vw_x7V6"
      },
      "outputs": [],
      "source": [
        "class Person:\n",
        "    def __init__(self,name,surname,year_of_birth):\n",
        "       self.name=name\n",
        "       self.surname=surname\n",
        "       self.year_of_birth=year_of_birth\n"
      ]
    },
    {
      "cell_type": "markdown",
      "metadata": {
        "id": "6Qsh7H5gx7V6"
      },
      "source": [
        "    __init__(self, ...)\n",
        "Is a special _Python_ method that is automatically called after an object construction. Its purpose is to initialize every object state. The first argument (by convention) __self__ is automatically passed either and refers to the object itself.\n",
        "\n",
        "In the preceding example, `__init__` adds three attributes to every object that is instantiated. So the class is actually describing each object's state.\n"
      ]
    },
    {
      "cell_type": "markdown",
      "metadata": {
        "id": "SfaYVsUjx7V7"
      },
      "source": [
        "We cannot directly manipulate any class rather we need to create an instance of the class: "
      ]
    },
    {
      "cell_type": "code",
      "execution_count": 15,
      "metadata": {
        "id": "CP6gkhOex7V7",
        "colab": {
          "base_uri": "https://localhost:8080/"
        },
        "outputId": "ac7e80f4-f57d-4071-af06-ca2133eb50c1"
      },
      "outputs": [
        {
          "output_type": "stream",
          "name": "stdout",
          "text": [
            "<__main__.Person object at 0x7f341d2cac90>\n",
            "alice baldwin was bron in 2001.\n"
          ]
        }
      ],
      "source": [
        "afreen=Person(\"alice\",\"baldwin\",2001)\n",
        "print(afreen)\n",
        "print(\"%s %s was bron in %d.\"%(afreen.name,afreen.surname,afreen.year_of_birth))"
      ]
    },
    {
      "cell_type": "markdown",
      "metadata": {
        "id": "8IVz9SXzx7V7"
      },
      "source": [
        "\n",
        "We have just created an instance of the Person class, bound to the variable `alec`. "
      ]
    },
    {
      "cell_type": "markdown",
      "metadata": {
        "id": "XuwcWPBsx7V7"
      },
      "source": [
        "### 1.2 Methods"
      ]
    },
    {
      "cell_type": "code",
      "source": [
        "class Person:\n",
        "  def __init__(self,name,surname,year_of_birth):\n",
        "       self.name=name\n",
        "       self.surname=surname\n",
        "       self.year_of_birth=year_of_birth\n",
        "\n",
        "  def age(self,current_year):\n",
        "      return current_year-self.year_of_birth\n",
        "\n",
        "  def __str__(self):\n",
        "      return \"%s %s was born in %d.\"%(self.name,self.surname,self.year_of_birth) \n",
        "\n",
        "afreen=Person(\"alice\",\"baldwin\",2001)\n",
        "print(afreen)\n",
        "print(afreen.age(2022))"
      ],
      "metadata": {
        "colab": {
          "base_uri": "https://localhost:8080/"
        },
        "id": "poESrWOY8qpb",
        "outputId": "a85c64bc-3921-4074-b419-9ba6a3f0a82a"
      },
      "execution_count": 16,
      "outputs": [
        {
          "output_type": "stream",
          "name": "stdout",
          "text": [
            "alice baldwin was born in 2001.\n",
            "21\n"
          ]
        }
      ]
    },
    {
      "cell_type": "code",
      "execution_count": 17,
      "metadata": {
        "id": "cTZHstKzx7V8",
        "colab": {
          "base_uri": "https://localhost:8080/"
        },
        "outputId": "10277aeb-7b0b-4211-b2f0-d9e3c3841e18"
      },
      "outputs": [
        {
          "output_type": "stream",
          "name": "stdout",
          "text": [
            "rayan france was born in 2011.\n",
            "11\n"
          ]
        }
      ],
      "source": [
        "class Person:\n",
        "  def __init__(self,name,surname,year_of_birth):\n",
        "       self.name=name\n",
        "       self.surname=surname\n",
        "       self.year_of_birth=year_of_birth\n",
        "\n",
        "  def age(self,current_year):\n",
        "    return current_year-self.year_of_birth\n",
        "\n",
        "  def __str__(self):\n",
        "    return \"%s %s was born in %d.\"%(self.name,self.surname,self.year_of_birth) \n",
        "\n",
        "afreen=Person(\"rayan\",\"france\",2011)\n",
        "print(afreen)\n",
        "print(afreen.age(2022))"
      ]
    },
    {
      "cell_type": "markdown",
      "metadata": {
        "id": "mwn7ICNBx7V8"
      },
      "source": [
        "We defined two more methods `age` and  `__str__`. The latter is once again a special method that is called by Python when the object has to be represented as a string (e.g. when has to be printed). If the `__str__` method isn't defined the **print** command shows the type of object and its address in memory. We can see that in order to call a method we use the same syntax for attributes (**instance_name.instance _method**)."
      ]
    },
    {
      "cell_type": "markdown",
      "metadata": {
        "id": "C35p1qxLx7V8"
      },
      "source": [
        "## 2 Inheritance"
      ]
    },
    {
      "cell_type": "markdown",
      "metadata": {
        "id": "kvkb80jux7V8"
      },
      "source": [
        "Once a class is defined it models a concept. It is useful to extend a class behavior to model a less general concept. Say we need to model a Student, but we know that every student is also a Person so we shouldn't model the Person again but inherit from it instead."
      ]
    },
    {
      "cell_type": "code",
      "source": [
        "class Student(Person):\n",
        "    def __init__(self,student_id,*args, **kwargs):\n",
        "      super(Student,self).__init__(*args, **kwargs)\n",
        "      self._student_id=student_id\n",
        "\n",
        "charlie=Student(1,'Charlie','Brown',2006)\n",
        "print(charlie)\n",
        "print(type(charlie))\n",
        "print(isinstance(charlie,Person))\n",
        "print(isinstance(charlie,object))"
      ],
      "metadata": {
        "colab": {
          "base_uri": "https://localhost:8080/"
        },
        "id": "TnsWdorQRjAH",
        "outputId": "6955000e-817b-469b-ea32-8ecfeae6d2b0"
      },
      "execution_count": 18,
      "outputs": [
        {
          "output_type": "stream",
          "name": "stdout",
          "text": [
            "Charlie Brown was born in 2006.\n",
            "<class '__main__.Student'>\n",
            "True\n",
            "True\n"
          ]
        }
      ]
    },
    {
      "cell_type": "markdown",
      "metadata": {
        "id": "3QSirpXbx7V9"
      },
      "source": [
        "Charlie now has the same behavior of a Person, but his state has also a student ID. A Person is one of the base classes of Student and Student is one of the sub classes of Person. Be aware that a subclass knows about its superclasses but the converse isn't true.\n",
        "\n",
        "A sub class doesn't only inherits from its base classes, but from its base classes too, forming an inheritance tree that starts from a object (every class base class).\n",
        "\n",
        "    super(Class, instance)\n",
        "    \n",
        "is a function that returns a proxy-object that delegates method calls to a parent or sibling class of type.\n",
        "So we used it to access Person's `__init__`."
      ]
    },
    {
      "cell_type": "markdown",
      "metadata": {
        "id": "X8L2Mthqx7V9"
      },
      "source": [
        "### 2.1 Overriding methods"
      ]
    },
    {
      "cell_type": "markdown",
      "metadata": {
        "id": "QcuLZ7l7x7V9"
      },
      "source": [
        "Inheritance allows to add new methods to a subclass but often is useful to change the behavior of a method defined in the superclass. To override a method just define it again."
      ]
    },
    {
      "cell_type": "code",
      "execution_count": 26,
      "metadata": {
        "id": "UBNiktfkx7V9",
        "colab": {
          "base_uri": "https://localhost:8080/"
        },
        "outputId": "d32a78ef-65a7-46fb-e451-313d4ef4d1b0"
      },
      "outputs": [
        {
          "output_type": "stream",
          "name": "stdout",
          "text": [
            "charlie brown was born in 2006.and has ID: 1\n"
          ]
        }
      ],
      "source": [
        "class Student(Person):\n",
        "    def __init__(self,student_id,*args, **kwargs):\n",
        "      super(Student,self).__init__(*args, **kwargs)\n",
        "      self._student_id=student_id\n",
        "    def __str__(self):\n",
        "        return super(Student,self).__str__()+\"and has ID: %d\"%self._student_id\n",
        "\n",
        "charlie=Student(1,'charlie','brown',2006)\n",
        "print(charlie)\n"
      ]
    },
    {
      "cell_type": "markdown",
      "metadata": {
        "id": "me9zpkKkx7V9"
      },
      "source": [
        "We defined `__str__` again overriding the one wrote in Person, but we wanted to extend it, so we used super to achieve our goal."
      ]
    },
    {
      "cell_type": "markdown",
      "metadata": {
        "id": "W3C9B-Wzx7V9"
      },
      "source": [
        "## 3 Encapsulation"
      ]
    },
    {
      "cell_type": "markdown",
      "metadata": {
        "id": "ylTnyHpRx7V9"
      },
      "source": [
        "Encapsulation is an another powerful way to extend a class which consists on wrapping an object with a second one.\n",
        "There are two main reasons to use encapsulation:\n",
        "* Composition\n",
        "* Dynamic Extension\n"
      ]
    },
    {
      "cell_type": "markdown",
      "metadata": {
        "id": "fIN0ehr_x7V-"
      },
      "source": [
        "### 3.1 Composition"
      ]
    },
    {
      "cell_type": "markdown",
      "metadata": {
        "id": "lccq19tXx7V-"
      },
      "source": [
        "The abstraction process relies on creating a simplified model that remove useless details from a concept. In order to be simplified, a model should be described in terms of other simpler concepts.\n",
        "For example, we can say that a car is composed by:\n",
        "* Tyres\n",
        "* Engine\n",
        "* Body\n",
        "\n",
        "And break down each one of these elements in simpler parts until we reach primitive data."
      ]
    },
    {
      "cell_type": "markdown",
      "metadata": {
        "id": "qrOEVNVSx7V-"
      },
      "source": [
        "## 4 Polymorphism and DuckTyping"
      ]
    },
    {
      "cell_type": "markdown",
      "metadata": {
        "id": "lvN0WIO9x7V-"
      },
      "source": [
        "`Python` uses dynamic typing which is also called as duck typing. If an object implements a method you can use it, irrespective of the type. This is different from statically typed languages, where the type of a construct need to be explicitly declared. Polymorphism is the ability to use the same syntax for objects of different types:"
      ]
    },
    {
      "cell_type": "code",
      "execution_count": 30,
      "metadata": {
        "id": "iRtbhBMXx7V-",
        "colab": {
          "base_uri": "https://localhost:8080/"
        },
        "outputId": "ce2d5184-4a31-4f56-e20b-507ab8dd7a8b"
      },
      "outputs": [
        {
          "output_type": "stream",
          "name": "stdout",
          "text": [
            "2\n",
            "['a', 'b', 'c', 'd', 'e', 'f']\n",
            "abracadabra\n"
          ]
        }
      ],
      "source": [
        "def summer(a,b):\n",
        "  return a+b\n",
        "\n",
        "print(summer(1,1))\n",
        "print(summer(['a','b','c'],['d','e','f']))\n",
        "print(summer('abra','cadabra'))"
      ]
    },
    {
      "cell_type": "markdown",
      "metadata": {
        "id": "-jFEYfCrx7V-"
      },
      "source": [
        "## 5 How long does a class should be?"
      ]
    },
    {
      "cell_type": "markdown",
      "metadata": {
        "id": "SKcIdem4x7V-"
      },
      "source": [
        "There is an Object Oriented Programming (OOP) principle called Single Responsibility Principle (SRP) and it states: \"A class should have one single responsibility\" or \"A class should have only one reason to change\". \n",
        "\n",
        "If you come across a class which doesn't follow the SRP principle, you should spilt it. You will be grateful to SRP during your software maintenance. "
      ]
    },
    {
      "cell_type": "markdown",
      "metadata": {
        "id": "cKdzgzm0x7V_"
      },
      "source": [
        "# Files\n",
        "\n",
        "Python uses file objects to interact with the external files on your computer. These file objects cab be of any file format on your computer i.e. can be an audio file, a text file, emails, Excel documents, etc. Note that You will probably need to install certain libraries or modules to interact with those various file types, but they are easily available. (We will cover downloading modules later on in the course).\n",
        "\n",
        "Python has a built-in open function that allows us to open and play with basic file types. First we will need a file though. We're going to use some iPython magic to create a text file!\n",
        "\n",
        "## iPython Writing a File"
      ]
    },
    {
      "cell_type": "code",
      "execution_count": 44,
      "metadata": {
        "id": "9L9mjz1fx7V_",
        "colab": {
          "base_uri": "https://localhost:8080/"
        },
        "outputId": "02343228-c458-465a-de8a-8d0440316733"
      },
      "outputs": [
        {
          "output_type": "stream",
          "name": "stdout",
          "text": [
            "Writing test.txt\n"
          ]
        }
      ],
      "source": [
        "%%writefile test.txt\n",
        "hello,this is a quick test file."
      ]
    },
    {
      "cell_type": "markdown",
      "metadata": {
        "id": "CGR4wVGSx7V_"
      },
      "source": [
        "## Python Opening a file\n",
        "\n",
        "We can open a file with the open() function. This function also takes in arguments (also called parameters). Let's see how this is used:"
      ]
    },
    {
      "cell_type": "code",
      "execution_count": 45,
      "metadata": {
        "id": "Aiv_M7fgx7V_"
      },
      "outputs": [],
      "source": [
        "# Open the text.txt we made earlier\n",
        "my_file=open('test.txt')"
      ]
    },
    {
      "cell_type": "code",
      "execution_count": 47,
      "metadata": {
        "id": "_4wfIzMGx7V_",
        "colab": {
          "base_uri": "https://localhost:8080/",
          "height": 36
        },
        "outputId": "bd67484a-9111-4fb3-b760-a677fe2486d9"
      },
      "outputs": [
        {
          "output_type": "execute_result",
          "data": {
            "text/plain": [
              "'hello,this is a quick test file.\\n'"
            ],
            "application/vnd.google.colaboratory.intrinsic+json": {
              "type": "string"
            }
          },
          "metadata": {},
          "execution_count": 47
        }
      ],
      "source": [
        "# We can now read the file\n",
        "my_file.read()"
      ]
    },
    {
      "cell_type": "code",
      "execution_count": 48,
      "metadata": {
        "id": "tMKorNjox7V_",
        "colab": {
          "base_uri": "https://localhost:8080/",
          "height": 36
        },
        "outputId": "b9d482b1-71c8-44b6-e6fb-513813af3298"
      },
      "outputs": [
        {
          "output_type": "execute_result",
          "data": {
            "text/plain": [
              "''"
            ],
            "application/vnd.google.colaboratory.intrinsic+json": {
              "type": "string"
            }
          },
          "metadata": {},
          "execution_count": 48
        }
      ],
      "source": [
        "# But what happens if we try to read it again?\n",
        "my_file.read()"
      ]
    },
    {
      "cell_type": "markdown",
      "metadata": {
        "id": "xfKjEl_hx7V_"
      },
      "source": [
        "This happens because you can imagine the reading \"cursor\" is at the end of the file after having read it. So there is nothing left to read. We can reset the \"cursor\" like this:"
      ]
    },
    {
      "cell_type": "code",
      "execution_count": 52,
      "metadata": {
        "id": "w8_KeEwOx7V_",
        "colab": {
          "base_uri": "https://localhost:8080/"
        },
        "outputId": "d9f7f87e-0909-4459-f5f7-17b820bb0b56"
      },
      "outputs": [
        {
          "output_type": "execute_result",
          "data": {
            "text/plain": [
              "0"
            ]
          },
          "metadata": {},
          "execution_count": 52
        }
      ],
      "source": [
        "# Seek to the start of file (index 0)\n",
        "my_file.seek(0)"
      ]
    },
    {
      "cell_type": "code",
      "execution_count": 53,
      "metadata": {
        "id": "EzvC0U8yx7WA",
        "colab": {
          "base_uri": "https://localhost:8080/",
          "height": 36
        },
        "outputId": "336a9e70-cbce-4e02-8d49-85d32a1dfcda"
      },
      "outputs": [
        {
          "output_type": "execute_result",
          "data": {
            "text/plain": [
              "'hello,this is a quick test file.\\n'"
            ],
            "application/vnd.google.colaboratory.intrinsic+json": {
              "type": "string"
            }
          },
          "metadata": {},
          "execution_count": 53
        }
      ],
      "source": [
        "# Now read again\n",
        "my_file.read()"
      ]
    },
    {
      "cell_type": "markdown",
      "metadata": {
        "id": "B5Qop2nLx7WA"
      },
      "source": [
        "In order to not have to reset every time, we can also use the readlines method. Use caution with large files, since everything will be held in memory. We will learn how to iterate over large files later in the course."
      ]
    },
    {
      "cell_type": "code",
      "execution_count": 54,
      "metadata": {
        "id": "vn3yQ1Hlx7WA",
        "colab": {
          "base_uri": "https://localhost:8080/"
        },
        "outputId": "7a5d4ed4-7c52-496e-d7fd-c523031987fd"
      },
      "outputs": [
        {
          "output_type": "execute_result",
          "data": {
            "text/plain": [
              "0"
            ]
          },
          "metadata": {},
          "execution_count": 54
        }
      ],
      "source": [
        "# Seek to the start of file (index 0)\n",
        "my_file.seek(0)"
      ]
    },
    {
      "cell_type": "code",
      "execution_count": 56,
      "metadata": {
        "id": "35LvvVN5x7WA",
        "colab": {
          "base_uri": "https://localhost:8080/"
        },
        "outputId": "84b257ef-c60c-485e-c6d6-5a1be8211339"
      },
      "outputs": [
        {
          "output_type": "execute_result",
          "data": {
            "text/plain": [
              "[]"
            ]
          },
          "metadata": {},
          "execution_count": 56
        }
      ],
      "source": [
        "# Readlines returns a list of the lines in the file.\n",
        "my_file.readlines()"
      ]
    },
    {
      "cell_type": "markdown",
      "metadata": {
        "id": "Mju5GH85x7WA"
      },
      "source": [
        "## Writing to a File\n",
        "\n",
        "By default, using the open() function will only allow us to read the file, we need to pass the argument 'w' to write over the file. For example:"
      ]
    },
    {
      "cell_type": "code",
      "execution_count": 57,
      "metadata": {
        "id": "x9cGl4Rdx7WA"
      },
      "outputs": [],
      "source": [
        "# Add the second argument to the function, 'w' which stands for write\n",
        "my_file=open('test.txt','w+')"
      ]
    },
    {
      "cell_type": "code",
      "execution_count": 58,
      "metadata": {
        "id": "CpEtOwCqx7WA",
        "colab": {
          "base_uri": "https://localhost:8080/"
        },
        "outputId": "f78a5eb2-15bd-4e02-890c-2b3077441859"
      },
      "outputs": [
        {
          "output_type": "execute_result",
          "data": {
            "text/plain": [
              "18"
            ]
          },
          "metadata": {},
          "execution_count": 58
        }
      ],
      "source": [
        "# Write to the file\n",
        "my_file.write('this is a new moon')"
      ]
    },
    {
      "cell_type": "code",
      "execution_count": 59,
      "metadata": {
        "id": "UL6gr5b-x7WA",
        "colab": {
          "base_uri": "https://localhost:8080/"
        },
        "outputId": "8df349bb-7f2d-4eb4-8f9f-1825fddbfe84"
      },
      "outputs": [
        {
          "output_type": "execute_result",
          "data": {
            "text/plain": [
              "0"
            ]
          },
          "metadata": {},
          "execution_count": 59
        }
      ],
      "source": [
        "# Seek to the start of file (index 0)\n",
        "my_file.seek(0)"
      ]
    },
    {
      "cell_type": "code",
      "execution_count": 60,
      "metadata": {
        "id": "UM9quJYbx7WA",
        "colab": {
          "base_uri": "https://localhost:8080/",
          "height": 36
        },
        "outputId": "641fe0f5-ef9c-4ded-dc26-054bdae717f6"
      },
      "outputs": [
        {
          "output_type": "execute_result",
          "data": {
            "text/plain": [
              "'this is a new moon'"
            ],
            "application/vnd.google.colaboratory.intrinsic+json": {
              "type": "string"
            }
          },
          "metadata": {},
          "execution_count": 60
        }
      ],
      "source": [
        "# Read the file\n",
        "my_file.read()"
      ]
    },
    {
      "cell_type": "markdown",
      "metadata": {
        "id": "Es5Hi1UGx7WA"
      },
      "source": [
        "## Iterating through a File\n",
        "\n",
        "Let's get a quick preview of a for loop by iterating over a text file. First, let's make a new text file with some iPython Magic:"
      ]
    },
    {
      "cell_type": "code",
      "execution_count": 65,
      "metadata": {
        "id": "Poyn8gANx7WB",
        "colab": {
          "base_uri": "https://localhost:8080/"
        },
        "outputId": "959aec77-38b8-4c2e-9f84-ccc0fc80088f"
      },
      "outputs": [
        {
          "output_type": "stream",
          "name": "stdout",
          "text": [
            "Overwriting test.txt\n"
          ]
        }
      ],
      "source": [
        "%%writefile test.txt\n",
        "First Line\n",
        "Second Line"
      ]
    },
    {
      "cell_type": "markdown",
      "metadata": {
        "id": "HTSEcl2Mx7WB"
      },
      "source": [
        "Now we can use a little bit of flow to tell the program to for through every line of the file and do something:"
      ]
    },
    {
      "cell_type": "code",
      "execution_count": 66,
      "metadata": {
        "id": "94AbcveZx7WB",
        "colab": {
          "base_uri": "https://localhost:8080/"
        },
        "outputId": "5590b739-f5a4-4855-ed84-7ad627b48fd0"
      },
      "outputs": [
        {
          "output_type": "stream",
          "name": "stdout",
          "text": [
            "First Line\n",
            "\n",
            "Second Line\n",
            "\n"
          ]
        }
      ],
      "source": [
        "for line in open('test.txt'):\n",
        "  print(line)"
      ]
    },
    {
      "cell_type": "code",
      "execution_count": 67,
      "metadata": {
        "id": "Pc7dqjpqx7WB",
        "colab": {
          "base_uri": "https://localhost:8080/"
        },
        "outputId": "0bcc9cef-b353-44bb-b9bb-f3bb2e6953d7"
      },
      "outputs": [
        {
          "output_type": "stream",
          "name": "stdout",
          "text": [
            "First Line\n",
            "\n",
            "Second Line\n",
            "\n"
          ]
        }
      ],
      "source": [
        "# Pertaining to the first point above\n",
        "for asdf in open('test.txt'):\n",
        "  print(asdf)"
      ]
    },
    {
      "cell_type": "markdown",
      "metadata": {
        "id": "F4wc5u4kx7WB"
      },
      "source": [
        "# StringIO \n",
        "\n",
        "The StringIO module implements an in-memory filelike object. This object can then be used as input or output to most functions that would expect a standard file object.\n",
        "\n",
        "The best way to show this is by example:"
      ]
    },
    {
      "cell_type": "code",
      "execution_count": 68,
      "metadata": {
        "id": "ce-1GU37x7WB"
      },
      "outputs": [],
      "source": [
        "from io import StringIO"
      ]
    },
    {
      "cell_type": "code",
      "execution_count": 69,
      "metadata": {
        "id": "5h5R1f6Lx7WB"
      },
      "outputs": [],
      "source": [
        "# Arbitrary String\n",
        "mine=\"this is normal\""
      ]
    },
    {
      "cell_type": "code",
      "execution_count": 71,
      "metadata": {
        "id": "_SApLTKax7WB"
      },
      "outputs": [],
      "source": [
        "# Use StringIO method to set as file object\n",
        "f=StringIO(mine)"
      ]
    },
    {
      "cell_type": "markdown",
      "metadata": {
        "id": "za746LtQx7WB"
      },
      "source": [
        "Now we have an object *f* that we will be able to treat just like a file. For example:"
      ]
    },
    {
      "cell_type": "code",
      "execution_count": 72,
      "metadata": {
        "id": "7-80E5Mpx7WB",
        "colab": {
          "base_uri": "https://localhost:8080/",
          "height": 36
        },
        "outputId": "1e9d8477-c93d-4d33-e1ab-fcc263437385"
      },
      "outputs": [
        {
          "output_type": "execute_result",
          "data": {
            "text/plain": [
              "'this is normal'"
            ],
            "application/vnd.google.colaboratory.intrinsic+json": {
              "type": "string"
            }
          },
          "metadata": {},
          "execution_count": 72
        }
      ],
      "source": [
        "f.read()"
      ]
    },
    {
      "cell_type": "markdown",
      "metadata": {
        "id": "xCg-82sDx7WB"
      },
      "source": [
        "We can also write to it"
      ]
    },
    {
      "cell_type": "code",
      "execution_count": 76,
      "metadata": {
        "id": "ge55KyAOx7WB",
        "colab": {
          "base_uri": "https://localhost:8080/"
        },
        "outputId": "2d9b7753-e5f8-4f7b-9dd0-fb8d435e8111"
      },
      "outputs": [
        {
          "output_type": "execute_result",
          "data": {
            "text/plain": [
              "39"
            ]
          },
          "metadata": {},
          "execution_count": 76
        }
      ],
      "source": [
        "f.write(' second line writen to file like object')"
      ]
    },
    {
      "cell_type": "code",
      "execution_count": 82,
      "metadata": {
        "id": "G5magXttx7WC",
        "colab": {
          "base_uri": "https://localhost:8080/"
        },
        "outputId": "49b55935-3db2-4ae1-ab95-6ef008396187"
      },
      "outputs": [
        {
          "output_type": "execute_result",
          "data": {
            "text/plain": [
              "0"
            ]
          },
          "metadata": {},
          "execution_count": 82
        }
      ],
      "source": [
        "# Reset cursor just like you would a file\n",
        "f.seek(0)"
      ]
    },
    {
      "cell_type": "code",
      "execution_count": 83,
      "metadata": {
        "id": "cumoIaRfx7WC",
        "colab": {
          "base_uri": "https://localhost:8080/",
          "height": 53
        },
        "outputId": "a1a7f290-d162-4519-bc8f-41f9115b4f16"
      },
      "outputs": [
        {
          "output_type": "execute_result",
          "data": {
            "text/plain": [
              "'this is normalsecond line writen to file like object second line writen to file like object'"
            ],
            "application/vnd.google.colaboratory.intrinsic+json": {
              "type": "string"
            }
          },
          "metadata": {},
          "execution_count": 83
        }
      ],
      "source": [
        "# Read again\n",
        "f.read()"
      ]
    },
    {
      "cell_type": "code",
      "execution_count": null,
      "metadata": {
        "id": "gWuoLmySx7WC"
      },
      "outputs": [],
      "source": []
    }
  ],
  "metadata": {
    "kernelspec": {
      "display_name": "Python 3",
      "language": "python",
      "name": "python3"
    },
    "language_info": {
      "codemirror_mode": {
        "name": "ipython",
        "version": 3
      },
      "file_extension": ".py",
      "mimetype": "text/x-python",
      "name": "python",
      "nbconvert_exporter": "python",
      "pygments_lexer": "ipython3",
      "version": "3.7.3"
    },
    "colab": {
      "provenance": [],
      "collapsed_sections": [
        "X8L2Mthqx7V9",
        "fIN0ehr_x7V-"
      ]
    }
  },
  "nbformat": 4,
  "nbformat_minor": 0
}