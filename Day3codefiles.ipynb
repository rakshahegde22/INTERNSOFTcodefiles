{
  "nbformat": 4,
  "nbformat_minor": 0,
  "metadata": {
    "colab": {
      "provenance": []
    },
    "kernelspec": {
      "name": "python3",
      "display_name": "Python 3"
    },
    "language_info": {
      "name": "python"
    }
  },
  "cells": [
    {
      "cell_type": "code",
      "execution_count": 1,
      "metadata": {
        "colab": {
          "base_uri": "https://localhost:8080/"
        },
        "id": "c5DQ0kP0ROgG",
        "outputId": "caac8326-76ce-4e07-eb86-13340fe6b6d4"
      },
      "outputs": [
        {
          "name": "stdout",
          "output_type": "stream",
          "text": [
            "what is your name?\n",
            "raksha\n"
          ]
        },
        {
          "output_type": "execute_result",
          "data": {
            "text/plain": [
              "str"
            ]
          },
          "metadata": {},
          "execution_count": 1
        }
      ],
      "source": [
        "#program to take the input string from user.\n",
        "\n",
        "name=input(\"what is your name?\\n\")\n",
        "type(name)"
      ]
    },
    {
      "cell_type": "code",
      "source": [
        "#program to read integer from user.\n",
        "\n",
        "age=input(\"what is your age?\")\n",
        "print(\"your age is:\",age)\n",
        "type(age)"
      ],
      "metadata": {
        "colab": {
          "base_uri": "https://localhost:8080/"
        },
        "id": "pjeGKiTFtQsI",
        "outputId": "98b95669-cfb6-454e-fb11-719029e99aa1"
      },
      "execution_count": 3,
      "outputs": [
        {
          "output_type": "stream",
          "name": "stdout",
          "text": [
            "what is your age?20\n",
            "your age is: 20\n"
          ]
        },
        {
          "output_type": "execute_result",
          "data": {
            "text/plain": [
              "str"
            ]
          },
          "metadata": {},
          "execution_count": 3
        }
      ]
    },
    {
      "cell_type": "code",
      "source": [
        "#lets have one more example\n",
        "\n",
        "name=input(\"what is your name?\")\n",
        "print(\"it is nice talking to u \"+name+\"!\")\n",
        "age=input(\"enter your age?\")\n",
        "print(\"hey!your already \"+age+\" years old \"+name+\"!\")"
      ],
      "metadata": {
        "colab": {
          "base_uri": "https://localhost:8080/"
        },
        "id": "JqStgtaet1kf",
        "outputId": "758b27f2-6ec9-4c83-bc02-c50b3afc7a9a"
      },
      "execution_count": 9,
      "outputs": [
        {
          "output_type": "stream",
          "name": "stdout",
          "text": [
            "what is your name?raksha\n",
            "it is nice talking to u raksha!\n",
            "enter your age?20\n",
            "hey!your already 20 years old raksha!\n"
          ]
        }
      ]
    }
  ]
}