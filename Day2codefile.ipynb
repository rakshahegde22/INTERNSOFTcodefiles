{
  "nbformat": 4,
  "nbformat_minor": 0,
  "metadata": {
    "colab": {
      "provenance": [],
      "collapsed_sections": []
    },
    "kernelspec": {
      "name": "python3",
      "display_name": "Python 3"
    },
    "language_info": {
      "name": "python"
    }
  },
  "cells": [
    {
      "cell_type": "markdown",
      "source": [
        "## BASICS OF PYTHON"
      ],
      "metadata": {
        "id": "5GFPzR-eynOg"
      }
    },
    {
      "cell_type": "markdown",
      "source": [
        "### FUNDMENTAL TYPES"
      ],
      "metadata": {
        "id": "eIHgi3ifyYxs"
      }
    },
    {
      "cell_type": "markdown",
      "source": [
        "### Integer"
      ],
      "metadata": {
        "id": "YCOyWxRIvi1B"
      }
    },
    {
      "cell_type": "code",
      "source": [
        "#integer\n",
        "x=3\n",
        "type(x)"
      ],
      "metadata": {
        "colab": {
          "base_uri": "https://localhost:8080/"
        },
        "id": "jl8bjh_rvqvK",
        "outputId": "42e44787-9d44-4a82-929c-ddc871fdc513"
      },
      "execution_count": null,
      "outputs": [
        {
          "output_type": "execute_result",
          "data": {
            "text/plain": [
              "int"
            ]
          },
          "metadata": {},
          "execution_count": 1
        }
      ]
    },
    {
      "cell_type": "markdown",
      "source": [
        "### Float\n"
      ],
      "metadata": {
        "id": "pj8RP10Sv5oC"
      }
    },
    {
      "cell_type": "code",
      "source": [
        "#float\n",
        "x=1.2\n",
        "type(x)"
      ],
      "metadata": {
        "colab": {
          "base_uri": "https://localhost:8080/"
        },
        "id": "jG3oYhWswAZg",
        "outputId": "91a2aac3-8af4-4e38-ca01-a0be460d4126"
      },
      "execution_count": null,
      "outputs": [
        {
          "output_type": "execute_result",
          "data": {
            "text/plain": [
              "float"
            ]
          },
          "metadata": {},
          "execution_count": 2
        }
      ]
    },
    {
      "cell_type": "markdown",
      "source": [
        "### Boolean"
      ],
      "metadata": {
        "id": "ZbJsDOazw_O2"
      }
    },
    {
      "cell_type": "code",
      "source": [
        "#boolean\n",
        "A=3\n",
        "bool(A)"
      ],
      "metadata": {
        "colab": {
          "base_uri": "https://localhost:8080/"
        },
        "id": "GLg1Oo42xDeX",
        "outputId": "7755b17e-d92d-4988-95af-23527fd2a474"
      },
      "execution_count": null,
      "outputs": [
        {
          "output_type": "execute_result",
          "data": {
            "text/plain": [
              "True"
            ]
          },
          "metadata": {},
          "execution_count": 3
        }
      ]
    },
    {
      "cell_type": "code",
      "source": [
        "#boolean\n",
        "A=22\n",
        "B=22.24\n",
        "bool(A==B)"
      ],
      "metadata": {
        "colab": {
          "base_uri": "https://localhost:8080/"
        },
        "id": "t_BO2IqtyA1f",
        "outputId": "020e184b-7f95-4abb-ee75-50375e8d963e"
      },
      "execution_count": null,
      "outputs": [
        {
          "output_type": "execute_result",
          "data": {
            "text/plain": [
              "False"
            ]
          },
          "metadata": {},
          "execution_count": 7
        }
      ]
    },
    {
      "cell_type": "markdown",
      "source": [
        "### String"
      ],
      "metadata": {
        "id": "H6UZN6OWy2Vy"
      }
    },
    {
      "cell_type": "code",
      "source": [
        "#string\n",
        "a='hello'\n",
        "print(a)"
      ],
      "metadata": {
        "colab": {
          "base_uri": "https://localhost:8080/"
        },
        "id": "hVazHXVSy-Zr",
        "outputId": "fbdb538d-e8d7-46bb-c2fb-d596c492d4e2"
      },
      "execution_count": null,
      "outputs": [
        {
          "output_type": "stream",
          "name": "stdout",
          "text": [
            "hello\n"
          ]
        }
      ]
    },
    {
      "cell_type": "code",
      "source": [
        "print(\"hello\")"
      ],
      "metadata": {
        "colab": {
          "base_uri": "https://localhost:8080/"
        },
        "id": "_F_RrMwA0yH_",
        "outputId": "dacb44c1-19cf-45c0-8e0a-b1848c76c11c"
      },
      "execution_count": null,
      "outputs": [
        {
          "output_type": "stream",
          "name": "stdout",
          "text": [
            "hello\n"
          ]
        }
      ]
    },
    {
      "cell_type": "code",
      "source": [
        "print('''hello i am raksha!!!''')"
      ],
      "metadata": {
        "colab": {
          "base_uri": "https://localhost:8080/"
        },
        "id": "ty077qek06xI",
        "outputId": "cf2e13dc-7ff5-4886-b42f-a417a1f58803"
      },
      "execution_count": null,
      "outputs": [
        {
          "output_type": "stream",
          "name": "stdout",
          "text": [
            "hello i am raksha!!!\n"
          ]
        }
      ]
    },
    {
      "cell_type": "markdown",
      "source": [
        "### Complex"
      ],
      "metadata": {
        "id": "F8WIV_AS1MiG"
      }
    },
    {
      "cell_type": "code",
      "source": [
        "#complex\n",
        "x=complex(3,6)\n",
        "print(x)"
      ],
      "metadata": {
        "colab": {
          "base_uri": "https://localhost:8080/"
        },
        "id": "HCLvr0CF1Prv",
        "outputId": "4ec759b5-ed91-4d98-a9ea-69013b6c69dc"
      },
      "execution_count": null,
      "outputs": [
        {
          "output_type": "stream",
          "name": "stdout",
          "text": [
            "(3+6j)\n"
          ]
        }
      ]
    },
    {
      "cell_type": "markdown",
      "source": [
        "### Variables"
      ],
      "metadata": {
        "id": "U5IWkv1p11qm"
      }
    },
    {
      "cell_type": "code",
      "source": [
        "#variable\n",
        "var=\"i am raksha\"\n",
        "print(var)"
      ],
      "metadata": {
        "colab": {
          "base_uri": "https://localhost:8080/"
        },
        "id": "WfzBIkmR14-9",
        "outputId": "17452363-cab8-4944-bc17-3a5dda6494ae"
      },
      "execution_count": null,
      "outputs": [
        {
          "output_type": "stream",
          "name": "stdout",
          "text": [
            "i am raksha\n"
          ]
        }
      ]
    },
    {
      "cell_type": "code",
      "source": [
        "name=\"raksha\"\n",
        "age=\"20\"\n",
        "print(name,age)"
      ],
      "metadata": {
        "colab": {
          "base_uri": "https://localhost:8080/"
        },
        "id": "be6xf9uu2f5D",
        "outputId": "967ea65a-38dd-4242-e0ab-46334586b6fd"
      },
      "execution_count": null,
      "outputs": [
        {
          "output_type": "stream",
          "name": "stdout",
          "text": [
            "raksha 20\n"
          ]
        }
      ]
    },
    {
      "cell_type": "markdown",
      "source": [
        "### Dynamic typing"
      ],
      "metadata": {
        "id": "DcLPFP3B2sNc"
      }
    },
    {
      "cell_type": "code",
      "source": [
        "message=\"hellooo!\"\n",
        "print(type(message))"
      ],
      "metadata": {
        "colab": {
          "base_uri": "https://localhost:8080/"
        },
        "id": "3-c0I7ae21J0",
        "outputId": "dcc0e84a-a235-4155-d239-7b899ccaded3"
      },
      "execution_count": null,
      "outputs": [
        {
          "output_type": "stream",
          "name": "stdout",
          "text": [
            "<class 'str'>\n"
          ]
        }
      ]
    },
    {
      "cell_type": "code",
      "source": [
        "num=300\n",
        "print(type(num))"
      ],
      "metadata": {
        "colab": {
          "base_uri": "https://localhost:8080/"
        },
        "id": "FD-s6H743pMP",
        "outputId": "42ca221d-8298-4d3c-e50c-c44d43428ec4"
      },
      "execution_count": null,
      "outputs": [
        {
          "output_type": "stream",
          "name": "stdout",
          "text": [
            "<class 'int'>\n"
          ]
        }
      ]
    },
    {
      "cell_type": "markdown",
      "source": [
        "### Strong typing"
      ],
      "metadata": {
        "id": "dsIj2EAv30d5"
      }
    },
    {
      "cell_type": "code",
      "source": [
        "class cat:\n",
        "  def walk(self):\n",
        "    print(\"meow meow\")\n",
        "\n",
        "class dog:\n",
        "  def walk(self):\n",
        "    print(\"bow bow\")\n",
        "\n",
        "def myfunction(obj):\n",
        "  obj.walk()\n",
        "\n",
        "d=dog()\n",
        "myfunction(d)\n"
      ],
      "metadata": {
        "colab": {
          "base_uri": "https://localhost:8080/"
        },
        "id": "nxjwBU-k36f_",
        "outputId": "8343ae27-c85c-4937-8cff-c86a6367d339"
      },
      "execution_count": null,
      "outputs": [
        {
          "output_type": "stream",
          "name": "stdout",
          "text": [
            "bow bow\n"
          ]
        }
      ]
    },
    {
      "cell_type": "markdown",
      "source": [
        "### Simple Expression"
      ],
      "metadata": {
        "id": "AwTyPD3J7CZS"
      }
    },
    {
      "cell_type": "code",
      "source": [
        "P = (10 == 9)\n",
        "Q = (7 > 5)\n",
        "  \n",
        "# Logical Expressions\n",
        "R = P and Q\n",
        "S = P or Q\n",
        "T = not P\n",
        "  \n",
        "print(R)\n",
        "print(S)\n",
        "print(T)"
      ],
      "metadata": {
        "colab": {
          "base_uri": "https://localhost:8080/"
        },
        "id": "Te8l_bVg7KbT",
        "outputId": "7b707e99-1569-44f1-d2b5-9beca7636978"
      },
      "execution_count": null,
      "outputs": [
        {
          "output_type": "stream",
          "name": "stdout",
          "text": [
            "False\n",
            "True\n",
            "True\n"
          ]
        }
      ]
    },
    {
      "cell_type": "markdown",
      "source": [
        "### Branching (if / elif / else)"
      ],
      "metadata": {
        "id": "L7K6iVmFyl8p"
      }
    },
    {
      "cell_type": "code",
      "source": [
        "x = int(input('Enter an integer: ')) # Will wait for you to enter an int\n",
        "if x%2 == 0:\n",
        "    if x%3 == 0:\n",
        "        print('Divisible by 2 and 3')\n",
        "    else:\n",
        "        print('Divisible by 2 but not by 3')\n",
        "elif x%3 == 0:\n",
        "    print('Divisible by 3 but not by 2')\n",
        "else:\n",
        "    print('Not divisible by either 2 or 3')"
      ],
      "metadata": {
        "colab": {
          "base_uri": "https://localhost:8080/"
        },
        "id": "6HEpv2yZyoM1",
        "outputId": "92a5370f-df34-4fc5-ea12-450540318b4d"
      },
      "execution_count": null,
      "outputs": [
        {
          "output_type": "stream",
          "name": "stdout",
          "text": [
            "Enter an integer: 16\n",
            "Divisible by 2 but not by 3\n"
          ]
        }
      ]
    },
    {
      "cell_type": "markdown",
      "source": [
        "## Advanced Types: Containers"
      ],
      "metadata": {
        "id": "AWWxXt08z1Kn"
      }
    },
    {
      "cell_type": "markdown",
      "source": [
        "### Lists"
      ],
      "metadata": {
        "id": "1sSEHgKXz76-"
      }
    },
    {
      "cell_type": "code",
      "source": [
        "my_list = ['p', 'r', 'o', 'b', 'e']\n",
        "\n",
        "# first item\n",
        "print(my_list[0])  # p\n",
        "\n",
        "# third item\n",
        "print(my_list[2])  # o\n",
        "\n",
        "# fifth item\n",
        "print(my_list[4])  # e\n",
        "\n",
        "# Nested List\n",
        "n_list = [\"Happy\", [2, 0, 1, 5]]\n",
        "\n",
        "# Nested indexing\n",
        "print(n_list[0][1])\n",
        "\n",
        "print(n_list[1][3])\n",
        "\n"
      ],
      "metadata": {
        "colab": {
          "base_uri": "https://localhost:8080/"
        },
        "id": "IQkUsqS90Az4",
        "outputId": "9e92efdb-36ef-4315-eee6-401c7e5a524a"
      },
      "execution_count": null,
      "outputs": [
        {
          "output_type": "stream",
          "name": "stdout",
          "text": [
            "p\n",
            "o\n",
            "e\n",
            "a\n",
            "5\n"
          ]
        }
      ]
    },
    {
      "cell_type": "code",
      "source": [
        "# Negative indexing in lists\n",
        "my_list = ['p','r','o','b','e']\n",
        "\n",
        "# last item\n",
        "print(my_list[-1])\n",
        "\n",
        "# fifth last item\n",
        "print(my_list[-5])"
      ],
      "metadata": {
        "colab": {
          "base_uri": "https://localhost:8080/"
        },
        "id": "Xa9RNV6-2-2t",
        "outputId": "2045404f-e24f-47ee-c063-8ce9eb0ea40b"
      },
      "execution_count": null,
      "outputs": [
        {
          "output_type": "stream",
          "name": "stdout",
          "text": [
            "e\n",
            "p\n"
          ]
        }
      ]
    },
    {
      "cell_type": "code",
      "source": [
        "# List slicing in Python\n",
        "\n",
        "my_list = ['p','r','o','g','r','a','m','i','z']\n",
        "\n",
        "# elements from index 2 to index 4\n",
        "print(my_list[2:5])\n",
        "\n",
        "# elements from index 5 to end\n",
        "print(my_list[5:])\n",
        "\n",
        "# elements beginning to end\n",
        "print(my_list[:])"
      ],
      "metadata": {
        "colab": {
          "base_uri": "https://localhost:8080/"
        },
        "id": "8gFK4QAb3aoc",
        "outputId": "5ab5d56b-8f24-4c55-d6d5-d50b7aac7389"
      },
      "execution_count": null,
      "outputs": [
        {
          "output_type": "stream",
          "name": "stdout",
          "text": [
            "['o', 'g', 'r']\n",
            "['a', 'm', 'i', 'z']\n",
            "['p', 'r', 'o', 'g', 'r', 'a', 'm', 'i', 'z']\n"
          ]
        }
      ]
    },
    {
      "cell_type": "code",
      "source": [
        "# Correcting mistake values in a list\n",
        "odd = [2, 4, 6, 8]\n",
        "\n",
        "# change the 1st item    \n",
        "odd[0] = 1            \n",
        "\n",
        "print(odd)\n",
        "\n",
        "# change 2nd to 4th items\n",
        "odd[1:4] = [3, 5, 7]  \n",
        "\n",
        "print(odd)            "
      ],
      "metadata": {
        "colab": {
          "base_uri": "https://localhost:8080/"
        },
        "id": "BMjcJvsR32Tc",
        "outputId": "2f3a43aa-f93a-47dd-94ea-7173e89382a8"
      },
      "execution_count": null,
      "outputs": [
        {
          "output_type": "stream",
          "name": "stdout",
          "text": [
            "[1, 4, 6, 8]\n",
            "[1, 3, 5, 7]\n"
          ]
        }
      ]
    },
    {
      "cell_type": "code",
      "source": [
        "# Appending and Extending lists in Python\n",
        "odd = [1, 3, 5]\n",
        "\n",
        "odd.append(7)\n",
        "\n",
        "print(odd)\n",
        "\n",
        "odd.extend([9, 11, 13])\n",
        "\n",
        "print(odd)"
      ],
      "metadata": {
        "colab": {
          "base_uri": "https://localhost:8080/"
        },
        "id": "Kks-Hfep4Ecd",
        "outputId": "d4fbeb1c-1c95-442f-fbb8-752bf8b9b2b4"
      },
      "execution_count": null,
      "outputs": [
        {
          "output_type": "stream",
          "name": "stdout",
          "text": [
            "[1, 3, 5, 7]\n",
            "[1, 3, 5, 7, 9, 11, 13]\n"
          ]
        }
      ]
    },
    {
      "cell_type": "code",
      "source": [
        "# Concatenating and repeating lists\n",
        "odd = [1, 3, 5]\n",
        "\n",
        "print(odd + [9, 7, 5])\n",
        "\n",
        "print([\"re\"] * 3)"
      ],
      "metadata": {
        "colab": {
          "base_uri": "https://localhost:8080/"
        },
        "id": "LNl3x_-44UXa",
        "outputId": "5cf5a525-d4d6-4bd6-dbcf-6e6efe08d4cd"
      },
      "execution_count": null,
      "outputs": [
        {
          "output_type": "stream",
          "name": "stdout",
          "text": [
            "[1, 3, 5, 9, 7, 5]\n",
            "['re', 're', 're']\n"
          ]
        }
      ]
    },
    {
      "cell_type": "code",
      "source": [
        "# Demonstration of list insert() method\n",
        "odd = [1, 9]\n",
        "odd.insert(1,3)\n",
        "\n",
        "print(odd)\n",
        "\n",
        "odd[2:2] = [5, 7]\n",
        "\n",
        "print(odd)"
      ],
      "metadata": {
        "colab": {
          "base_uri": "https://localhost:8080/"
        },
        "id": "uQ2liz4n4W6r",
        "outputId": "5af196af-d2d8-47a8-d15d-35ae8bf7be3c"
      },
      "execution_count": null,
      "outputs": [
        {
          "output_type": "stream",
          "name": "stdout",
          "text": [
            "[1, 3, 9]\n",
            "[1, 3, 5, 7, 9]\n"
          ]
        }
      ]
    },
    {
      "cell_type": "code",
      "source": [
        "# Deleting list items\n",
        "my_list = ['p', 'r', 'o', 'b', 'l', 'e', 'm']\n",
        "\n",
        "# delete one item\n",
        "del my_list[2]\n",
        "\n",
        "print(my_list)\n",
        "\n",
        "# delete multiple items\n",
        "del my_list[1:5]\n",
        "\n",
        "print(my_list)\n",
        "\n",
        "# delete the entire list\n",
        "del my_list"
      ],
      "metadata": {
        "colab": {
          "base_uri": "https://localhost:8080/"
        },
        "id": "ezAdClSU4thb",
        "outputId": "98303ce6-a7a4-4417-e685-4504edecd1ac"
      },
      "execution_count": null,
      "outputs": [
        {
          "output_type": "stream",
          "name": "stdout",
          "text": [
            "['p', 'r', 'b', 'l', 'e', 'm']\n",
            "['p', 'm']\n"
          ]
        }
      ]
    },
    {
      "cell_type": "code",
      "source": [
        "my_list = ['p','r','o','b','l','e','m']\n",
        "my_list.remove('p')\n",
        "\n",
        "# Output: ['r', 'o', 'b', 'l', 'e', 'm']\n",
        "print(my_list)\n",
        "\n",
        "# Output: 'o'\n",
        "print(my_list.pop(1))\n",
        "\n",
        "# Output: ['r', 'b', 'l', 'e', 'm']\n",
        "print(my_list)\n",
        "\n",
        "# Output: 'm'\n",
        "print(my_list.pop())\n",
        "\n",
        "# Output: ['r', 'b', 'l', 'e']\n",
        "print(my_list)\n",
        "\n",
        "my_list.clear()\n",
        "\n",
        "# Output: []\n",
        "print(my_list)"
      ],
      "metadata": {
        "colab": {
          "base_uri": "https://localhost:8080/"
        },
        "id": "ob6mxh7K5I_I",
        "outputId": "324c58f2-3ad2-4833-baba-4b9058a42bbc"
      },
      "execution_count": null,
      "outputs": [
        {
          "output_type": "stream",
          "name": "stdout",
          "text": [
            "['r', 'o', 'b', 'l', 'e', 'm']\n",
            "o\n",
            "['r', 'b', 'l', 'e', 'm']\n",
            "m\n",
            "['r', 'b', 'l', 'e']\n",
            "[]\n"
          ]
        }
      ]
    },
    {
      "cell_type": "code",
      "source": [
        "# Example on Python list methods\n",
        "\n",
        "my_list = [3, 8, 1, 6, 8, 8, 4]\n",
        "\n",
        "# Add 'a' to the end\n",
        "my_list.append('a')\n",
        "\n",
        "# Output: [3, 8, 1, 6, 8, 8, 4, 'a']\n",
        "print(my_list)\n",
        "\n",
        "# Index of first occurrence of 8\n",
        "print(my_list.index(8))   # Output: 1\n",
        "\n",
        "# Count of 8 in the list\n",
        "print(my_list.count(8))  # Output: 3 "
      ],
      "metadata": {
        "colab": {
          "base_uri": "https://localhost:8080/"
        },
        "id": "OXA75b5H5PDV",
        "outputId": "2458c56a-cb80-4f65-9bf8-8a33556b95c9"
      },
      "execution_count": null,
      "outputs": [
        {
          "output_type": "stream",
          "name": "stdout",
          "text": [
            "[3, 8, 1, 6, 8, 8, 4, 'a']\n",
            "1\n",
            "3\n"
          ]
        }
      ]
    },
    {
      "cell_type": "code",
      "source": [
        "p = [2 ** x for x in range(10)]\n",
        "print(p)"
      ],
      "metadata": {
        "colab": {
          "base_uri": "https://localhost:8080/"
        },
        "id": "HAgvjQI85yNz",
        "outputId": "f8d1d1b7-65dc-4f8e-d500-8a5af78bf77b"
      },
      "execution_count": null,
      "outputs": [
        {
          "output_type": "stream",
          "name": "stdout",
          "text": [
            "[1, 2, 4, 8, 16, 32, 64, 128, 256, 512]\n"
          ]
        }
      ]
    },
    {
      "cell_type": "code",
      "source": [
        "#iteration list\n",
        "for fruit in ['apple','banana','mango']:\n",
        "    print(\"I like\",fruit)\n"
      ],
      "metadata": {
        "colab": {
          "base_uri": "https://localhost:8080/"
        },
        "id": "VJSdWmCr6fhS",
        "outputId": "30232c6e-d9da-431f-c1c2-5161e36cf9f9"
      },
      "execution_count": null,
      "outputs": [
        {
          "output_type": "stream",
          "name": "stdout",
          "text": [
            "I like apple\n",
            "I like banana\n",
            "I like mango\n"
          ]
        }
      ]
    },
    {
      "cell_type": "code",
      "source": [
        "my_list = ['p', 'r', 'o', 'b', 'l', 'e', 'm']\n",
        "\n",
        "# Output: True\n",
        "print('p' in my_list)\n",
        "\n",
        "# Output: False\n",
        "print('a' in my_list)\n",
        "\n",
        "# Output: True\n",
        "print('c' not in my_list)"
      ],
      "metadata": {
        "colab": {
          "base_uri": "https://localhost:8080/"
        },
        "id": "DEKBp0OT6w78",
        "outputId": "2892e4f6-5d19-4fd9-b613-5ca6ec6e72da"
      },
      "execution_count": null,
      "outputs": [
        {
          "output_type": "stream",
          "name": "stdout",
          "text": [
            "True\n",
            "False\n",
            "True\n"
          ]
        }
      ]
    },
    {
      "cell_type": "code",
      "source": [
        "pow2 = [2 ** x for x in range(10) if x > 5]\n",
        ">>> pow2\n",
        "[64, 128, 256, 512]\n",
        ">>> odd = [x for x in range(20) if x % 2 == 1]\n",
        ">>> odd\n",
        "[1, 3, 5, 7, 9, 11, 13, 15, 17, 19]\n",
        ">>> [x+y for x in ['Python ','C '] for y in ['Language','Programming']]\n",
        "['Python Language', 'Python Programming', 'C Language', 'C Programming']"
      ],
      "metadata": {
        "colab": {
          "base_uri": "https://localhost:8080/"
        },
        "id": "lFWhqHr161pz",
        "outputId": "4c41f674-e94f-4ffd-b51a-36205456ea03"
      },
      "execution_count": null,
      "outputs": [
        {
          "output_type": "execute_result",
          "data": {
            "text/plain": [
              "['Python Language', 'Python Programming', 'C Language', 'C Programming']"
            ]
          },
          "metadata": {},
          "execution_count": 27
        }
      ]
    },
    {
      "cell_type": "markdown",
      "source": [
        "## Loops"
      ],
      "metadata": {
        "id": "PMQ-fRMs7GJA"
      }
    },
    {
      "cell_type": "markdown",
      "source": [
        "### For loop"
      ],
      "metadata": {
        "id": "2IYKS-Jh7I0N"
      }
    },
    {
      "cell_type": "code",
      "source": [
        "# Program to find the sum of all numbers stored in a list\n",
        "# List of numbers\n",
        "list=[6,5,3,8,4,2,5,4,11]\n",
        "# variable to store the sum\n",
        "sum=48\n",
        "# iterate over the list\n",
        "for n in list:\"\"\n",
        "sum=sum+n\n",
        "# Output: The sum is 48\n",
        "if sum==48:\n",
        "  print(\"the sum is\",sum)"
      ],
      "metadata": {
        "id": "mI_9dtSH-ASW"
      },
      "execution_count": null,
      "outputs": []
    },
    {
      "cell_type": "markdown",
      "source": [
        "### for loop with else"
      ],
      "metadata": {
        "id": "Xi_VrI3RBacR"
      }
    },
    {
      "cell_type": "code",
      "source": [
        "for i in range(1, 4):\n",
        "    print(i)\n",
        "else:  # Executed because no break in for\n",
        "    print(\"No Break\")"
      ],
      "metadata": {
        "colab": {
          "base_uri": "https://localhost:8080/"
        },
        "id": "ZbNNcZxEBcMQ",
        "outputId": "d72ea8b4-dd38-4bd6-a701-2f52d014fe4f"
      },
      "execution_count": null,
      "outputs": [
        {
          "output_type": "stream",
          "name": "stdout",
          "text": [
            "1\n",
            "2\n",
            "3\n",
            "No Break\n"
          ]
        }
      ]
    },
    {
      "cell_type": "markdown",
      "source": [
        "### While loop"
      ],
      "metadata": {
        "id": "idnPXjZUBuCt"
      }
    },
    {
      "cell_type": "code",
      "source": [
        "# Program to add natural\n",
        "# numbers upto \n",
        "x=0\n",
        "n=10\n",
        "# sum = 1+2+3+...+n\n",
        "sum=0\n",
        "# To take input from the user,\n",
        "while(x<=n):\n",
        "  sum=sum+x\n",
        "  x=x+1\n",
        "# initialize sum and counter\n",
        "    # update counter\n",
        "print(\"the sum is\",sum)\n",
        "# print the sum"
      ],
      "metadata": {
        "id": "qkq4dWH2ByaD",
        "colab": {
          "base_uri": "https://localhost:8080/"
        },
        "outputId": "3db3e6c9-fe34-47e4-f8db-0916ec7d9732"
      },
      "execution_count": 3,
      "outputs": [
        {
          "output_type": "stream",
          "name": "stdout",
          "text": [
            "the sum is 55\n"
          ]
        }
      ]
    },
    {
      "cell_type": "markdown",
      "source": [
        "### The range() function"
      ],
      "metadata": {
        "id": "JcHfToCRLxkM"
      }
    },
    {
      "cell_type": "code",
      "source": [
        "x=6\n",
        "for n in range(x):\n",
        "  print(n)"
      ],
      "metadata": {
        "colab": {
          "base_uri": "https://localhost:8080/"
        },
        "id": "k6FGloj3MpoB",
        "outputId": "bed43d6d-4be7-4dcd-a9bd-ede6fd2c1fb5"
      },
      "execution_count": 6,
      "outputs": [
        {
          "output_type": "stream",
          "name": "stdout",
          "text": [
            "0\n",
            "1\n",
            "2\n",
            "3\n",
            "4\n",
            "5\n"
          ]
        }
      ]
    },
    {
      "cell_type": "code",
      "source": [
        "x=range(3,8,2)\n",
        "for n in x:\n",
        "  print(n)"
      ],
      "metadata": {
        "colab": {
          "base_uri": "https://localhost:8080/"
        },
        "id": "fcIoD6HvM_Ba",
        "outputId": "1a414923-f5d1-4d95-8fb9-397aa27e453e"
      },
      "execution_count": 12,
      "outputs": [
        {
          "output_type": "stream",
          "name": "stdout",
          "text": [
            "3\n",
            "5\n",
            "7\n"
          ]
        }
      ]
    },
    {
      "cell_type": "markdown",
      "source": [
        "### break and continue statement\n",
        "\n"
      ],
      "metadata": {
        "id": "Xe3FRFmrMD_2"
      }
    },
    {
      "cell_type": "code",
      "source": [
        "#break statement\n",
        "for val in \"string\":\n",
        "    if val == \"i\":\n",
        "        break\n",
        "    print(val)"
      ],
      "metadata": {
        "colab": {
          "base_uri": "https://localhost:8080/"
        },
        "id": "_ZRRkO_MOyW-",
        "outputId": "9736b300-81f6-49fd-a6b3-6f3972fc31a1"
      },
      "execution_count": 13,
      "outputs": [
        {
          "output_type": "stream",
          "name": "stdout",
          "text": [
            "s\n",
            "t\n",
            "r\n"
          ]
        }
      ]
    },
    {
      "cell_type": "code",
      "source": [
        "#continue statement\n",
        "for val in \"string\":\n",
        "    if val == \"i\":\n",
        "        continue\n",
        "    print(val)"
      ],
      "metadata": {
        "colab": {
          "base_uri": "https://localhost:8080/"
        },
        "id": "5GV58uwhPoNd",
        "outputId": "cb883fe0-fd13-4708-e097-6a0500af0e8b"
      },
      "execution_count": 14,
      "outputs": [
        {
          "output_type": "stream",
          "name": "stdout",
          "text": [
            "s\n",
            "t\n",
            "r\n",
            "n\n",
            "g\n"
          ]
        }
      ]
    }
  ]
}