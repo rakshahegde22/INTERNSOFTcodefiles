Link: https://colab.research.google.com/drive/1c0_wLT_fOMNlgRC5zgitYrddapL0OHXF?usp=sharing#scrollTo=HEY_THIS_IS_RAKSHA_

HEY THIS IS RAKSHA!!!
This is a good day

[1]import numpy as np
   import matplotlib.pyplot as plt

[2]x=np.linspace(0,10*np.pi,1000)
   y=np.sin(x)

[5]plt.plot(x,y)


