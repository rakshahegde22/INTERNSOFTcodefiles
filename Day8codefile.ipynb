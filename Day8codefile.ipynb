{
  "cells": [
    {
      "cell_type": "markdown",
      "metadata": {
        "id": "hTLrEhZ8hzG8"
      },
      "source": [
        "# Modules and Packages"
      ]
    },
    {
      "cell_type": "markdown",
      "metadata": {
        "id": "EAma6BO-hzHA"
      },
      "source": [
        "Modules in Python are simply Python files with the .py extension, which implement a set of functions. Modules are imported from other modules using the import command. Before you go ahead and import modules, check out the full list of built-in modules in the Python Standard library.\n",
        "\n",
        "When a module is loaded into a running script for the first time, it is initialized by executing the code in the module once. If another module in your code imports the same module again, it will not be loaded twice but once only - so local variables inside the module act as a \"singleton\" - they are initialized only once.\n",
        "\n",
        "If we want to import module math,  we simply import the module:"
      ]
    },
    {
      "cell_type": "code",
      "execution_count": null,
      "metadata": {
        "id": "2z3CpWEuhzHA"
      },
      "outputs": [],
      "source": [
        "# import the library\n",
        "import math"
      ]
    },
    {
      "cell_type": "code",
      "execution_count": null,
      "metadata": {
        "id": "I_Qy3_vqhzHC",
        "colab": {
          "base_uri": "https://localhost:8080/"
        },
        "outputId": "d67be841-5c37-47b0-9f86-8233a4d7014c"
      },
      "outputs": [
        {
          "output_type": "execute_result",
          "data": {
            "text/plain": [
              "3"
            ]
          },
          "metadata": {},
          "execution_count": 2
        }
      ],
      "source": [
        "# use it (ceiling rounding)\n",
        "math.ceil(2.14)"
      ]
    },
    {
      "cell_type": "markdown",
      "metadata": {
        "id": "d6CiT72WhzHD"
      },
      "source": [
        "## Exploring built-in modules\n",
        "\n",
        "While exploring modules in Python, two important functions come in handy - the dir and help functions. dir functions show which functions are implemented in each module. Let us see the below example and understand better."
      ]
    },
    {
      "cell_type": "code",
      "execution_count": null,
      "metadata": {
        "id": "P7oh8hGghzHD",
        "colab": {
          "base_uri": "https://localhost:8080/"
        },
        "outputId": "ae911db4-ac63-4dee-e44e-0faab9539e19"
      },
      "outputs": [
        {
          "output_type": "stream",
          "name": "stdout",
          "text": [
            "['__doc__', '__loader__', '__name__', '__package__', '__spec__', 'acos', 'acosh', 'asin', 'asinh', 'atan', 'atan2', 'atanh', 'ceil', 'copysign', 'cos', 'cosh', 'degrees', 'e', 'erf', 'erfc', 'exp', 'expm1', 'fabs', 'factorial', 'floor', 'fmod', 'frexp', 'fsum', 'gamma', 'gcd', 'hypot', 'inf', 'isclose', 'isfinite', 'isinf', 'isnan', 'ldexp', 'lgamma', 'log', 'log10', 'log1p', 'log2', 'modf', 'nan', 'pi', 'pow', 'radians', 'remainder', 'sin', 'sinh', 'sqrt', 'tan', 'tanh', 'tau', 'trunc']\n"
          ]
        }
      ],
      "source": [
        "print(dir(math))"
      ]
    },
    {
      "cell_type": "markdown",
      "metadata": {
        "id": "KJu_DpbWhzHE"
      },
      "source": [
        "When we find the function in the module we want to use, we can read about it more using the help function, inside the Python interpreter:"
      ]
    },
    {
      "cell_type": "code",
      "execution_count": null,
      "metadata": {
        "id": "aqeEpWq1hzHE",
        "colab": {
          "base_uri": "https://localhost:8080/"
        },
        "outputId": "e5c11171-2f1d-4eef-f146-c22bacd226a0"
      },
      "outputs": [
        {
          "output_type": "stream",
          "name": "stdout",
          "text": [
            "Help on built-in function ceil in module math:\n",
            "\n",
            "ceil(x, /)\n",
            "    Return the ceiling of x as an Integral.\n",
            "    \n",
            "    This is the smallest integer >= x.\n",
            "\n"
          ]
        }
      ],
      "source": [
        "help(math.ceil)"
      ]
    },
    {
      "cell_type": "markdown",
      "metadata": {
        "id": "yBNZo7yuhzHE"
      },
      "source": [
        "## Writing modules\n",
        "Writing Python modules is very simple. To create a module of your own, simply create a new .py file with the module name, and then import it using the Python file name (without the .py extension) using the import command.\n",
        "\n",
        "## Writing packages\n",
        "Packages are name-spaces which contain multiple packages and modules themselves. They are simply directories, but with a twist.\n",
        "\n",
        "The twist is, each package in Python is a directory which MUST contain a special file called **\\__init\\__.py**. This file can be empty, and it indicates that the directory it contains is a Python package, so it can be imported the same way a module can be imported.\n",
        "\n",
        "If we create a directory called foo, which marks the package name, we can then create a module inside that package called bar. We also must not forget to add the **\\__init\\__.py** file inside the foo directory.\n",
        "\n",
        "To use the module bar, we can import it in two ways:"
      ]
    },
    {
      "cell_type": "code",
      "execution_count": null,
      "metadata": {
        "id": "Q_DndZ9whzHF"
      },
      "outputs": [],
      "source": [
        "# Just an example, this won't work\n",
        "import foo.bar"
      ]
    },
    {
      "cell_type": "code",
      "execution_count": null,
      "metadata": {
        "id": "MSE8a9crhzHF"
      },
      "outputs": [],
      "source": [
        "# OR could do it this way\n",
        "from foo import bar"
      ]
    },
    {
      "cell_type": "markdown",
      "metadata": {
        "id": "_7hWvemdhzHG"
      },
      "source": [
        "In the first method, we must use the foo prefix whenever we access the module bar. In the second method, we don't, because we import the module to our module's name-space.\n",
        "\n",
        "The **\\__init\\__.py** file can also decide which modules the package exports as the API, while keeping other modules internal, by overriding the **\\__all\\__** variable, like so:"
      ]
    },
    {
      "cell_type": "code",
      "execution_count": null,
      "metadata": {
        "id": "byJWcr-FhzHG"
      },
      "outputs": [],
      "source": [
        "__init__.py:\n",
        "__all__=[\"bar\"]"
      ]
    },
    {
      "cell_type": "markdown",
      "metadata": {
        "id": "fQr2qOKQhzHG"
      },
      "source": [
        "# Errors and Exception Handling\n",
        "\n",
        "In this section, we will learn about Errors and Exception Handling in Python. You've might have definitely encountered errors by this point in the course. For example:"
      ]
    },
    {
      "cell_type": "code",
      "execution_count": null,
      "metadata": {
        "id": "humtL_dYhzHG"
      },
      "outputs": [],
      "source": [
        "print('hello)"
      ]
    },
    {
      "cell_type": "markdown",
      "metadata": {
        "id": "6hwufZsehzHH"
      },
      "source": [
        "Note how we get a SyntaxError, with the further description that it was an End of Line Error (EOL) while scanning the string literal. This is specific enough for us to see that we forgot a single quote at the end of the line. Understanding of these various error types will help you debug your code much faster. \n",
        "\n",
        "This type of error and description is known as an Exception. Even if a statement or expression is syntactically correct, it may cause an error when an attempt is made to execute it. Errors detected during execution are called exceptions and are not unconditionally fatal.\n",
        "\n",
        "You can check out the full list of built-in exceptions [here](https://docs.python.org/2/library/exceptions.html). Now, let's learn how to handle errors and exceptions in our own code."
      ]
    },
    {
      "cell_type": "markdown",
      "metadata": {
        "id": "6Nvc0x-qhzHH"
      },
      "source": [
        "## try and except\n",
        "\n",
        "The basic terminology and syntax used to handle errors in Python is the **try** and **except** statements. The code which can cause an exception to occur is put in the *try* block and the handling of the exception are the implemented in the *except* block of code. The syntax form is:\n",
        "\n",
        "    try:\n",
        "       You do your operations here...\n",
        "       ...\n",
        "    except ExceptionI:\n",
        "       If there is ExceptionI, then execute this block.\n",
        "    except ExceptionII:\n",
        "       If there is ExceptionII, then execute this block.\n",
        "       ...\n",
        "    else:\n",
        "       If there is no exception then execute this block. \n",
        "\n",
        "Using just except, we can check for any exception: To understand better let's check out a sample code that opens and writes a file:"
      ]
    },
    {
      "cell_type": "code",
      "execution_count": null,
      "metadata": {
        "id": "9dl3jy0nhzHH",
        "colab": {
          "base_uri": "https://localhost:8080/"
        },
        "outputId": "ede4c214-43e0-489f-ff4a-ad40601c1d8e"
      },
      "outputs": [
        {
          "output_type": "stream",
          "name": "stdout",
          "text": [
            "content written successfully\n"
          ]
        }
      ],
      "source": [
        "try:\n",
        "  f=open('test.file','w')\n",
        "  f.write('test write this')\n",
        "except IOError:\n",
        "  print(\"Error:could not find file or read data\")\n",
        "else:\n",
        "  print(\"content written successfully\")\n",
        "  f.close"
      ]
    },
    {
      "cell_type": "markdown",
      "metadata": {
        "id": "xBvtw5FchzHH"
      },
      "source": [
        "Now, let's see what happens when we don't have write permission? (opening only with 'r'):"
      ]
    },
    {
      "cell_type": "code",
      "execution_count": null,
      "metadata": {
        "id": "eKrRAb_phzHI",
        "colab": {
          "base_uri": "https://localhost:8080/"
        },
        "outputId": "1c1b5610-6566-4822-e34b-9ee6d78ab82a"
      },
      "outputs": [
        {
          "output_type": "stream",
          "name": "stdout",
          "text": [
            "Error:could not find file or read data\n"
          ]
        }
      ],
      "source": [
        "try:\n",
        "  f=open('test.file','r')\n",
        "  f.write('test write this')\n",
        "except IOError:\n",
        "  print(\"Error:could not find file or read data\")\n",
        "else:\n",
        "  print(\"content written successfully\")\n",
        "  f.close"
      ]
    },
    {
      "cell_type": "markdown",
      "metadata": {
        "id": "87GVZp9JhzHI"
      },
      "source": [
        "Notice, how we only printed a statement! The code still ran and we were able to continue doing actions and running code blocks. This is extremely useful when you have to account for possible input errors in your code. You can be prepared for the error and keep running code, instead of your code just breaking as we saw above.\n",
        "\n",
        "We could have also just said except: if we weren't sure what exception would occur. For example:"
      ]
    },
    {
      "cell_type": "code",
      "execution_count": null,
      "metadata": {
        "id": "JoHbKqhzhzHI",
        "colab": {
          "base_uri": "https://localhost:8080/"
        },
        "outputId": "9ebabdca-f19d-40eb-dfc8-c362b74ce91e"
      },
      "outputs": [
        {
          "output_type": "stream",
          "name": "stdout",
          "text": [
            "content written successfully\n"
          ]
        }
      ],
      "source": [
        "try:\n",
        "  f=open('test.file','w')\n",
        "  f.write('test write this')\n",
        "except:\n",
        "  print(\"Error:could not find file or read data\")\n",
        "else:\n",
        "  print(\"content written successfully\")\n",
        "  f.close"
      ]
    },
    {
      "cell_type": "markdown",
      "metadata": {
        "id": "V14u1NvlhzHI"
      },
      "source": [
        "Now, we don't actually need to memorize the list of exception types! Now what if we keep wanting to run code after the exception occurred? This is where **finally** comes in.\n",
        "##finally\n",
        "The finally: Block of code will always be run regardless if there was an exception in the try code block. The syntax is:\n",
        "\n",
        "    try:\n",
        "       Code block here\n",
        "       ...\n",
        "       Due to any exception, this code may be skipped!\n",
        "    finally:\n",
        "       This code block would always be executed.\n",
        "\n",
        "For example:"
      ]
    },
    {
      "cell_type": "code",
      "execution_count": null,
      "metadata": {
        "id": "EGveYt6_hzHI",
        "colab": {
          "base_uri": "https://localhost:8080/"
        },
        "outputId": "59f2aa17-4518-40e3-dfcc-52be7ca66832"
      },
      "outputs": [
        {
          "output_type": "stream",
          "name": "stdout",
          "text": [
            "always execute finally code blocks\n"
          ]
        }
      ],
      "source": [
        "try:\n",
        "  f=open('test.file','w')\n",
        "  f.write('test write this')\n",
        "finally:\n",
        "  print(\"always execute finally code blocks\")"
      ]
    },
    {
      "cell_type": "markdown",
      "metadata": {
        "id": "gR1-4N2thzHI"
      },
      "source": [
        "We can use this in conjunction with except. Let's see a new example that will take into account a user putting in the wrong input:"
      ]
    },
    {
      "cell_type": "code",
      "execution_count": null,
      "metadata": {
        "id": "1-3UaWRDhzHI"
      },
      "outputs": [],
      "source": [
        "def askint():\n",
        "  try:\n",
        "    val=int(input(\"please enter an integer: \"))\n",
        "  except:\n",
        "    print(\"looks like you did not enter an integer!\")\n",
        "  finally:\n",
        "    print(\"finally,i executed!\")\n",
        "  print(val)\n"
      ]
    },
    {
      "cell_type": "code",
      "execution_count": null,
      "metadata": {
        "id": "FtRyzfDshzHI",
        "colab": {
          "base_uri": "https://localhost:8080/",
          "height": 304
        },
        "outputId": "b97785bf-638f-49d9-f295-e83895f2ef56"
      },
      "outputs": [
        {
          "output_type": "stream",
          "name": "stdout",
          "text": [
            "please enter an integer: 5.2\n",
            "looks like you did not enter an integer!\n",
            "finally,i executed!\n"
          ]
        },
        {
          "output_type": "error",
          "ename": "UnboundLocalError",
          "evalue": "ignored",
          "traceback": [
            "\u001b[0;31m---------------------------------------------------------------------------\u001b[0m",
            "\u001b[0;31mUnboundLocalError\u001b[0m                         Traceback (most recent call last)",
            "\u001b[0;32m<ipython-input-16-cc291aa76c10>\u001b[0m in \u001b[0;36m<module>\u001b[0;34m\u001b[0m\n\u001b[0;32m----> 1\u001b[0;31m \u001b[0maskint\u001b[0m\u001b[0;34m(\u001b[0m\u001b[0;34m)\u001b[0m\u001b[0;34m\u001b[0m\u001b[0;34m\u001b[0m\u001b[0m\n\u001b[0m",
            "\u001b[0;32m<ipython-input-15-e719afce1537>\u001b[0m in \u001b[0;36maskint\u001b[0;34m()\u001b[0m\n\u001b[1;32m      6\u001b[0m   \u001b[0;32mfinally\u001b[0m\u001b[0;34m:\u001b[0m\u001b[0;34m\u001b[0m\u001b[0;34m\u001b[0m\u001b[0m\n\u001b[1;32m      7\u001b[0m     \u001b[0mprint\u001b[0m\u001b[0;34m(\u001b[0m\u001b[0;34m\"finally,i executed!\"\u001b[0m\u001b[0;34m)\u001b[0m\u001b[0;34m\u001b[0m\u001b[0;34m\u001b[0m\u001b[0m\n\u001b[0;32m----> 8\u001b[0;31m   \u001b[0mprint\u001b[0m\u001b[0;34m(\u001b[0m\u001b[0mval\u001b[0m\u001b[0;34m)\u001b[0m\u001b[0;34m\u001b[0m\u001b[0;34m\u001b[0m\u001b[0m\n\u001b[0m",
            "\u001b[0;31mUnboundLocalError\u001b[0m: local variable 'val' referenced before assignment"
          ]
        }
      ],
      "source": [
        "askint()"
      ]
    },
    {
      "cell_type": "code",
      "execution_count": null,
      "metadata": {
        "id": "j4q4XzAjhzHJ",
        "colab": {
          "base_uri": "https://localhost:8080/"
        },
        "outputId": "498901fe-7d8c-463e-cdc3-780d441097ab"
      },
      "outputs": [
        {
          "output_type": "stream",
          "name": "stdout",
          "text": [
            "please enter an integer: 9\n",
            "finally,i executed!\n",
            "9\n"
          ]
        }
      ],
      "source": [
        "askint()"
      ]
    },
    {
      "cell_type": "markdown",
      "metadata": {
        "id": "E0y4AjS7hzHJ"
      },
      "source": [
        "Check how we got an error when trying to print val (because it was properly assigned). Let's find the right solution by asking the user and checking to make sure the input type is an integer:"
      ]
    },
    {
      "cell_type": "code",
      "execution_count": null,
      "metadata": {
        "id": "Zn1haeU3hzHJ"
      },
      "outputs": [],
      "source": [
        "def askint():\n",
        "  try:\n",
        "    val=int(input(\"please enter an integer: \"))\n",
        "  except:\n",
        "    print(\"looks like you did not enter an integer!\")\n",
        "    val=int(input(\"try again please enter a integer:\"))\n",
        "  finally:\n",
        "    print(\"finally,i executed!\")\n",
        "  print(val)"
      ]
    },
    {
      "cell_type": "code",
      "execution_count": null,
      "metadata": {
        "id": "muZ-JFABhzHJ",
        "colab": {
          "base_uri": "https://localhost:8080/"
        },
        "outputId": "2c5f0faf-e5b0-4c07-b5bb-65d87ac146fe"
      },
      "outputs": [
        {
          "output_type": "stream",
          "name": "stdout",
          "text": [
            "please enter an integer: str\n",
            "looks like you did not enter an integer!\n",
            "try again please enter a integer:22\n",
            "finally,i executed!\n",
            "22\n"
          ]
        }
      ],
      "source": [
        "askint()"
      ]
    },
    {
      "cell_type": "markdown",
      "metadata": {
        "id": "Y6tzxgsghzHJ"
      },
      "source": [
        "Hmmm...that only did one check. How can we continually keep checking? We can use a while loop!"
      ]
    },
    {
      "cell_type": "code",
      "execution_count": null,
      "metadata": {
        "id": "rLKEmjirhzHJ"
      },
      "outputs": [],
      "source": [
        "def askint():\n",
        "  while True:\n",
        "    try:\n",
        "      val=int(input(\"please enter an integer: \"))\n",
        "    except:\n",
        "      print(\"looks like you did not enter an integer!\")\n",
        "      continue\n",
        "    else:\n",
        "      print('yep thats an integer!')\n",
        "      break\n",
        "    finally:\n",
        "      print(\"finally,i executed!\")\n",
        "    print(val)"
      ]
    },
    {
      "cell_type": "code",
      "execution_count": null,
      "metadata": {
        "scrolled": true,
        "id": "UNwPcLkyhzHJ",
        "colab": {
          "base_uri": "https://localhost:8080/"
        },
        "outputId": "930b7aa1-5e7f-448e-8312-a7b9473fa783"
      },
      "outputs": [
        {
          "output_type": "stream",
          "name": "stdout",
          "text": [
            "please enter an integer: asd\n",
            "looks like you did not enter an integer!\n",
            "finally,i executed!\n",
            "please enter an integer: 123\n",
            "yep thats an integer!\n",
            "finally,i executed!\n"
          ]
        }
      ],
      "source": [
        "askint()"
      ]
    },
    {
      "cell_type": "markdown",
      "metadata": {
        "id": "YBIxiqLAhzHJ"
      },
      "source": [
        "## Database connectivity and operations using Python.\n",
        "\n",
        "For Example, the following is the example of connecting with MySQL database \"my_database1\" and creating table grades1 and inserting values inside it."
      ]
    },
    {
      "cell_type": "code",
      "execution_count": 23,
      "metadata": {
        "id": "BK6gqmwphzHJ",
        "colab": {
          "base_uri": "https://localhost:8080/"
        },
        "outputId": "ea07dea2-c2a9-460b-915e-d994c4e624e5"
      },
      "outputs": [
        {
          "output_type": "execute_result",
          "data": {
            "text/plain": [
              "<sqlite3.Cursor at 0x7ff9ba30a0a0>"
            ]
          },
          "metadata": {},
          "execution_count": 23
        }
      ],
      "source": [
        "#!/usr/bin/python\n",
        "import sqlite3\n",
        "#connecting with the database.\n",
        "db=sqlite3.connect(\"my_database1.db\")\n",
        "# Drop table if it already exist using execute() method.\n",
        "db.execute(\"drop table if exists grades1\")\n",
        "# Create table as per requirement\n",
        "db.execute(\"create table grades1(id int,name text,score int)\")\n",
        "#inserting values inside the created table\n",
        "db.execute(\"insert into grades1(id,name,score) values(101,'john',99)\")\n",
        "db.execute(\"insert into grades1(id,name,score) values(102,'gary',90)\")\n",
        "db.execute(\"insert into grades1(id,name,score) values(103,'james',80)\")\n",
        "db.execute(\"insert into grades1(id,name,score) values(104,'cathy',85)\")\n",
        "db.execute(\"insert into grades1(id,name,score) values(105,'kris',95)\")\n"
      ]
    },
    {
      "cell_type": "code",
      "execution_count": 24,
      "metadata": {
        "id": "c_BJp680hzHK"
      },
      "outputs": [],
      "source": [
        "db.commit()"
      ]
    },
    {
      "cell_type": "code",
      "execution_count": 25,
      "metadata": {
        "id": "SFMk0VuPhzHK",
        "colab": {
          "base_uri": "https://localhost:8080/"
        },
        "outputId": "e8cdf19f-825e-4307-cbbb-bc21a82d4c07"
      },
      "outputs": [
        {
          "output_type": "stream",
          "name": "stdout",
          "text": [
            "(101, 'john', 99)\n",
            "(102, 'gary', 90)\n",
            "(103, 'james', 80)\n",
            "(104, 'cathy', 85)\n",
            "(105, 'kris', 95)\n",
            "____________________________________________________________\n"
          ]
        }
      ],
      "source": [
        "results=db.execute(\"select * from grades1 order by id\")\n",
        "for row in results:\n",
        "  print(row)\n",
        "print(\"_\" * 60)"
      ]
    },
    {
      "cell_type": "code",
      "execution_count": 29,
      "metadata": {
        "id": "dkO8P3xIhzHK",
        "colab": {
          "base_uri": "https://localhost:8080/"
        },
        "outputId": "7b17a8cc-2a0f-4ab6-a6e0-50b1de72c99a"
      },
      "outputs": [
        {
          "output_type": "stream",
          "name": "stdout",
          "text": [
            "(102, 'gary', 90)\n",
            "____________________________________________________________\n"
          ]
        }
      ],
      "source": [
        "results=db.execute(\"select * from grades1 where name='gary' \")\n",
        "for row in results:\n",
        "  print(row)\n",
        "print(\"_\" * 60)"
      ]
    },
    {
      "cell_type": "code",
      "execution_count": 27,
      "metadata": {
        "id": "vtcZWxzphzHK",
        "colab": {
          "base_uri": "https://localhost:8080/"
        },
        "outputId": "e99fd123-7930-45d6-dd78-a3e1fdfdfdea"
      },
      "outputs": [
        {
          "output_type": "stream",
          "name": "stdout",
          "text": [
            "(101, 'john', 99)\n",
            "(102, 'gary', 90)\n",
            "(105, 'kris', 95)\n",
            "____________________________________________________________\n"
          ]
        }
      ],
      "source": [
        "results=db.execute(\"select * from grades1 where score>=90 \")\n",
        "for row in results:\n",
        "  print(row)\n",
        "print(\"_\" * 60)"
      ]
    },
    {
      "cell_type": "code",
      "execution_count": 30,
      "metadata": {
        "id": "ryWEpCtehzHK",
        "colab": {
          "base_uri": "https://localhost:8080/"
        },
        "outputId": "62309f8d-1282-4fea-d47a-053d8c7ad897"
      },
      "outputs": [
        {
          "output_type": "stream",
          "name": "stdout",
          "text": [
            "('john', 99)\n",
            "('kris', 95)\n",
            "('gary', 90)\n",
            "('cathy', 85)\n",
            "('james', 80)\n",
            "____________________________________________________________\n"
          ]
        }
      ],
      "source": [
        "results=db.execute(\"select name,score from grades1 order by score desc\")\n",
        "for row in results:\n",
        "  print(row)\n",
        "print(\"_\" * 60)"
      ]
    },
    {
      "cell_type": "code",
      "execution_count": 31,
      "metadata": {
        "id": "Y4NRdVNmhzHK",
        "colab": {
          "base_uri": "https://localhost:8080/"
        },
        "outputId": "879eb49d-05d5-4037-d75b-aa4218059024"
      },
      "outputs": [
        {
          "output_type": "stream",
          "name": "stdout",
          "text": [
            "('james', 80)\n",
            "('cathy', 85)\n",
            "('gary', 90)\n",
            "('kris', 95)\n",
            "('john', 99)\n",
            "____________________________________________________________\n"
          ]
        }
      ],
      "source": [
        "results=db.execute(\"select name,score from grades1 order by score\")\n",
        "for row in results:\n",
        "  print(row)\n",
        "print(\"_\" * 60)"
      ]
    },
    {
      "cell_type": "code",
      "execution_count": 32,
      "metadata": {
        "id": "8F42Qd1BhzHK",
        "colab": {
          "base_uri": "https://localhost:8080/"
        },
        "outputId": "c5e2518d-dd47-4324-8599-fdbb743ecf9f"
      },
      "outputs": [
        {
          "output_type": "stream",
          "name": "stdout",
          "text": [
            "('james', 80)\n",
            "('cathy', 85)\n",
            "('gary', 90)\n",
            "('kris', 95)\n",
            "('john', 99)\n"
          ]
        }
      ],
      "source": [
        "results=db.execute(\"select name,score from grades1 order by score\")\n",
        "for row in results:\n",
        "  print(row)"
      ]
    },
    {
      "cell_type": "code",
      "execution_count": null,
      "metadata": {
        "id": "G151nKEnhzHK"
      },
      "outputs": [],
      "source": []
    }
  ],
  "metadata": {
    "kernelspec": {
      "display_name": "Python 3",
      "language": "python",
      "name": "python3"
    },
    "language_info": {
      "codemirror_mode": {
        "name": "ipython",
        "version": 3
      },
      "file_extension": ".py",
      "mimetype": "text/x-python",
      "name": "python",
      "nbconvert_exporter": "python",
      "pygments_lexer": "ipython3",
      "version": "3.7.3"
    },
    "colab": {
      "provenance": []
    }
  },
  "nbformat": 4,
  "nbformat_minor": 0
}