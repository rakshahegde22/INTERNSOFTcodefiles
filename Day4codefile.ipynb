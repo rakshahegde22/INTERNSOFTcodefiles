{
  "nbformat": 4,
  "nbformat_minor": 0,
  "metadata": {
    "colab": {
      "provenance": [],
      "collapsed_sections": []
    },
    "kernelspec": {
      "name": "python3",
      "display_name": "Python 3"
    },
    "language_info": {
      "name": "python"
    }
  },
  "cells": [
    {
      "cell_type": "markdown",
      "source": [
        "# Session 2 - Strings and list objects"
      ],
      "metadata": {
        "id": "HjmWxX2XdHiC"
      }
    },
    {
      "cell_type": "markdown",
      "source": [
        "## Strings"
      ],
      "metadata": {
        "id": "WhcoSTRDdU9-"
      }
    },
    {
      "cell_type": "markdown",
      "source": [
        "### Creating a String"
      ],
      "metadata": {
        "id": "bRNf7-xGdqSO"
      }
    },
    {
      "cell_type": "code",
      "source": [
        "# Single word\n",
        "my_string = 'Hello'\n",
        "print(my_string)\n",
        "\n",
        "my_string = \"Hello\"\n",
        "print(my_string)\n",
        "\n",
        "my_string = '''Hello'''\n",
        "print(my_string)"
      ],
      "metadata": {
        "colab": {
          "base_uri": "https://localhost:8080/"
        },
        "id": "79oG8_Ebdalo",
        "outputId": "6cc18e30-4abb-4c3f-a68a-73718f5e1bf5"
      },
      "execution_count": null,
      "outputs": [
        {
          "output_type": "stream",
          "name": "stdout",
          "text": [
            "Hello\n",
            "Hello\n",
            "Hello\n"
          ]
        }
      ]
    },
    {
      "cell_type": "code",
      "source": [
        "#single word\n",
        "'hello'"
      ],
      "metadata": {
        "colab": {
          "base_uri": "https://localhost:8080/",
          "height": 36
        },
        "id": "6br_HkJZgP_P",
        "outputId": "111556ce-8ce6-4cb3-ff2d-684b6cf2e1d5"
      },
      "execution_count": null,
      "outputs": [
        {
          "output_type": "execute_result",
          "data": {
            "text/plain": [
              "'hello'"
            ],
            "application/vnd.google.colaboratory.intrinsic+json": {
              "type": "string"
            }
          },
          "metadata": {},
          "execution_count": 2
        }
      ]
    },
    {
      "cell_type": "code",
      "source": [
        "# Entire phrase\n",
        "'hi i am raksha'"
      ],
      "metadata": {
        "colab": {
          "base_uri": "https://localhost:8080/",
          "height": 36
        },
        "id": "jDeR2hX7gV6v",
        "outputId": "4d899b3d-c279-4439-e065-9342d41bb129"
      },
      "execution_count": null,
      "outputs": [
        {
          "output_type": "execute_result",
          "data": {
            "text/plain": [
              "'hi i am raksha'"
            ],
            "application/vnd.google.colaboratory.intrinsic+json": {
              "type": "string"
            }
          },
          "metadata": {},
          "execution_count": 3
        }
      ]
    },
    {
      "cell_type": "code",
      "source": [
        "# We can also use double quote\n",
        "\"hey! whatsuup\""
      ],
      "metadata": {
        "colab": {
          "base_uri": "https://localhost:8080/",
          "height": 36
        },
        "id": "IdjPdwNTge4d",
        "outputId": "60e37a65-e18e-475b-a34f-b15a1ec43876"
      },
      "execution_count": null,
      "outputs": [
        {
          "output_type": "execute_result",
          "data": {
            "text/plain": [
              "'hey! whatsuup'"
            ],
            "application/vnd.google.colaboratory.intrinsic+json": {
              "type": "string"
            }
          },
          "metadata": {},
          "execution_count": 4
        }
      ]
    },
    {
      "cell_type": "code",
      "source": [
        "# Be careful with quotes!\n",
        "'i'm having a dance class'"
      ],
      "metadata": {
        "colab": {
          "base_uri": "https://localhost:8080/",
          "height": 130
        },
        "id": "XbmlVsNAgopP",
        "outputId": "66c9d517-faef-4132-e9b3-8d7d7722c1d2"
      },
      "execution_count": null,
      "outputs": [
        {
          "output_type": "error",
          "ename": "SyntaxError",
          "evalue": "ignored",
          "traceback": [
            "\u001b[0;36m  File \u001b[0;32m\"<ipython-input-6-68e1db79d6f9>\"\u001b[0;36m, line \u001b[0;32m2\u001b[0m\n\u001b[0;31m    'i'm having a dance class'\u001b[0m\n\u001b[0m       ^\u001b[0m\n\u001b[0;31mSyntaxError\u001b[0m\u001b[0;31m:\u001b[0m invalid syntax\n"
          ]
        }
      ]
    },
    {
      "cell_type": "code",
      "source": [
        "#correcting above code\n",
        "\"i'm having a dance class\""
      ],
      "metadata": {
        "colab": {
          "base_uri": "https://localhost:8080/",
          "height": 36
        },
        "id": "tw_RTwdyhmUP",
        "outputId": "0e76ec10-6997-4adb-a2c7-dc37fe8cb521"
      },
      "execution_count": null,
      "outputs": [
        {
          "output_type": "execute_result",
          "data": {
            "text/plain": [
              "\"i'm having a dance class\""
            ],
            "application/vnd.google.colaboratory.intrinsic+json": {
              "type": "string"
            }
          },
          "metadata": {},
          "execution_count": 7
        }
      ]
    },
    {
      "cell_type": "markdown",
      "source": [
        "### Printing a String"
      ],
      "metadata": {
        "id": "BGmY305ch-KP"
      }
    },
    {
      "cell_type": "code",
      "source": [
        "# We can simply declare a string\n",
        "\"hello\""
      ],
      "metadata": {
        "colab": {
          "base_uri": "https://localhost:8080/",
          "height": 36
        },
        "id": "qyWs8Oz2h_5r",
        "outputId": "9c967d23-1937-4fe5-e60d-a702bcef176d"
      },
      "execution_count": null,
      "outputs": [
        {
          "output_type": "execute_result",
          "data": {
            "text/plain": [
              "'hello'"
            ],
            "application/vnd.google.colaboratory.intrinsic+json": {
              "type": "string"
            }
          },
          "metadata": {},
          "execution_count": 8
        }
      ]
    },
    {
      "cell_type": "code",
      "source": [
        "# note that we can't output multiple strings this way\n",
        "print('helloo 1')\n",
        "'helloo 2'"
      ],
      "metadata": {
        "colab": {
          "base_uri": "https://localhost:8080/",
          "height": 53
        },
        "id": "pakR9Fv7iE8S",
        "outputId": "903cecba-deac-4c3e-da9a-0dd657ade6ca"
      },
      "execution_count": null,
      "outputs": [
        {
          "output_type": "stream",
          "name": "stdout",
          "text": [
            "helloo 1\n"
          ]
        },
        {
          "output_type": "execute_result",
          "data": {
            "text/plain": [
              "'helloo 2'"
            ],
            "application/vnd.google.colaboratory.intrinsic+json": {
              "type": "string"
            }
          },
          "metadata": {},
          "execution_count": 10
        }
      ]
    },
    {
      "cell_type": "code",
      "source": [
        "#python 2\n",
        "#error because this is python 3\n",
        "print 'hello'"
      ],
      "metadata": {
        "colab": {
          "base_uri": "https://localhost:8080/",
          "height": 130
        },
        "id": "RrkR-ZvSi_hw",
        "outputId": "b7d1f8b3-b0a1-4e79-d9a0-1a2f7e0d3cd0"
      },
      "execution_count": null,
      "outputs": [
        {
          "output_type": "error",
          "ename": "SyntaxError",
          "evalue": "ignored",
          "traceback": [
            "\u001b[0;36m  File \u001b[0;32m\"<ipython-input-11-f92e961005cc>\"\u001b[0;36m, line \u001b[0;32m3\u001b[0m\n\u001b[0;31m    print 'hello'\u001b[0m\n\u001b[0m                ^\u001b[0m\n\u001b[0;31mSyntaxError\u001b[0m\u001b[0;31m:\u001b[0m Missing parentheses in call to 'print'. Did you mean print('hello')?\n"
          ]
        }
      ]
    },
    {
      "cell_type": "code",
      "source": [
        "# To use print function from Python 3 in Python 2\n",
        "from__future__import print_function\n",
        "\n",
        "print(\"hello\")"
      ],
      "metadata": {
        "colab": {
          "base_uri": "https://localhost:8080/",
          "height": 130
        },
        "id": "gZ0C9n4XjInG",
        "outputId": "045af630-9688-4c45-bcd4-540a17932fa4"
      },
      "execution_count": null,
      "outputs": [
        {
          "output_type": "error",
          "ename": "SyntaxError",
          "evalue": "ignored",
          "traceback": [
            "\u001b[0;36m  File \u001b[0;32m\"<ipython-input-15-f9f411d35835>\"\u001b[0;36m, line \u001b[0;32m2\u001b[0m\n\u001b[0;31m    from__future__import print_function\u001b[0m\n\u001b[0m                                      ^\u001b[0m\n\u001b[0;31mSyntaxError\u001b[0m\u001b[0;31m:\u001b[0m invalid syntax\n"
          ]
        }
      ]
    },
    {
      "cell_type": "markdown",
      "source": [
        "### String Basics"
      ],
      "metadata": {
        "id": "ymDzSZxrmDbs"
      }
    },
    {
      "cell_type": "code",
      "source": [
        "len('hello raksha')"
      ],
      "metadata": {
        "colab": {
          "base_uri": "https://localhost:8080/"
        },
        "id": "LRwLEJUSmFMq",
        "outputId": "58b7ede7-18ab-49cf-855b-63b8cd523dfd"
      },
      "execution_count": null,
      "outputs": [
        {
          "output_type": "execute_result",
          "data": {
            "text/plain": [
              "12"
            ]
          },
          "metadata": {},
          "execution_count": 17
        }
      ]
    },
    {
      "cell_type": "markdown",
      "source": [
        "### string indexing"
      ],
      "metadata": {
        "id": "eoSRGMrfmWwJ"
      }
    },
    {
      "cell_type": "code",
      "execution_count": null,
      "metadata": {
        "id": "7ZnnhddMc9ZA"
      },
      "outputs": [],
      "source": [
        "# Assign s as a string\n",
        "s=\"hello world\""
      ]
    },
    {
      "cell_type": "code",
      "execution_count": null,
      "metadata": {
        "id": "DDEmUCWVc9ZA",
        "colab": {
          "base_uri": "https://localhost:8080/",
          "height": 36
        },
        "outputId": "f02072e8-1674-4a58-f5bc-4e9297c2da18"
      },
      "outputs": [
        {
          "output_type": "execute_result",
          "data": {
            "text/plain": [
              "'hello world'"
            ],
            "application/vnd.google.colaboratory.intrinsic+json": {
              "type": "string"
            }
          },
          "metadata": {},
          "execution_count": 19
        }
      ],
      "source": [
        "#Check\n",
        "s"
      ]
    },
    {
      "cell_type": "code",
      "execution_count": null,
      "metadata": {
        "id": "218T-u_pc9ZA",
        "colab": {
          "base_uri": "https://localhost:8080/"
        },
        "outputId": "c6a4e3fd-77fa-4b4f-add9-89f11439cce0"
      },
      "outputs": [
        {
          "output_type": "stream",
          "name": "stdout",
          "text": [
            "hello world\n"
          ]
        }
      ],
      "source": [
        "# Print the object\n",
        "print(s)"
      ]
    },
    {
      "cell_type": "code",
      "execution_count": null,
      "metadata": {
        "id": "lCU_55e9c9ZB",
        "colab": {
          "base_uri": "https://localhost:8080/",
          "height": 36
        },
        "outputId": "71854848-9843-4561-a3ba-6807213b12e7"
      },
      "outputs": [
        {
          "output_type": "execute_result",
          "data": {
            "text/plain": [
              "'h'"
            ],
            "application/vnd.google.colaboratory.intrinsic+json": {
              "type": "string"
            }
          },
          "metadata": {},
          "execution_count": 21
        }
      ],
      "source": [
        "# Show first element (in this case a letter)\n",
        "s[0]"
      ]
    },
    {
      "cell_type": "code",
      "source": [
        "s[1]"
      ],
      "metadata": {
        "colab": {
          "base_uri": "https://localhost:8080/",
          "height": 36
        },
        "id": "8LYbgkxZnBUy",
        "outputId": "3a122969-6110-49c5-d043-aa12d0a208be"
      },
      "execution_count": null,
      "outputs": [
        {
          "output_type": "execute_result",
          "data": {
            "text/plain": [
              "'e'"
            ],
            "application/vnd.google.colaboratory.intrinsic+json": {
              "type": "string"
            }
          },
          "metadata": {},
          "execution_count": 22
        }
      ]
    },
    {
      "cell_type": "code",
      "source": [
        "s[2]"
      ],
      "metadata": {
        "colab": {
          "base_uri": "https://localhost:8080/",
          "height": 36
        },
        "id": "owLAxKjxnBkd",
        "outputId": "84247700-49be-4607-9ab3-b5750fba0955"
      },
      "execution_count": null,
      "outputs": [
        {
          "output_type": "execute_result",
          "data": {
            "text/plain": [
              "'l'"
            ],
            "application/vnd.google.colaboratory.intrinsic+json": {
              "type": "string"
            }
          },
          "metadata": {},
          "execution_count": 23
        }
      ]
    },
    {
      "cell_type": "code",
      "execution_count": null,
      "metadata": {
        "id": "q7SRbVpEc9ZB",
        "colab": {
          "base_uri": "https://localhost:8080/",
          "height": 36
        },
        "outputId": "d6fea7af-443a-49c0-af75-1215050a4306"
      },
      "outputs": [
        {
          "output_type": "execute_result",
          "data": {
            "text/plain": [
              "'ello world'"
            ],
            "application/vnd.google.colaboratory.intrinsic+json": {
              "type": "string"
            }
          },
          "metadata": {},
          "execution_count": 24
        }
      ],
      "source": [
        "# Grab everything past the first term all the way to the length of s which is len(s)\n",
        "s[1:]\n"
      ]
    },
    {
      "cell_type": "code",
      "execution_count": null,
      "metadata": {
        "id": "-AVLGm6Bc9ZB",
        "colab": {
          "base_uri": "https://localhost:8080/",
          "height": 36
        },
        "outputId": "55303027-eaea-4215-a81b-565863f9e1dd"
      },
      "outputs": [
        {
          "output_type": "execute_result",
          "data": {
            "text/plain": [
              "'hello world'"
            ],
            "application/vnd.google.colaboratory.intrinsic+json": {
              "type": "string"
            }
          },
          "metadata": {},
          "execution_count": 25
        }
      ],
      "source": [
        "# Note that there is no change to the original s\n",
        "s"
      ]
    },
    {
      "cell_type": "code",
      "execution_count": null,
      "metadata": {
        "id": "WQ7mJx7hc9ZB",
        "colab": {
          "base_uri": "https://localhost:8080/",
          "height": 36
        },
        "outputId": "69adaaca-6c2b-4056-9855-a988151f9a18"
      },
      "outputs": [
        {
          "output_type": "execute_result",
          "data": {
            "text/plain": [
              "'hel'"
            ],
            "application/vnd.google.colaboratory.intrinsic+json": {
              "type": "string"
            }
          },
          "metadata": {},
          "execution_count": 26
        }
      ],
      "source": [
        "# Grab everything UP TO the 3rd index\n",
        "s[:3]"
      ]
    },
    {
      "cell_type": "code",
      "execution_count": null,
      "metadata": {
        "id": "x3STOAK7c9ZB",
        "colab": {
          "base_uri": "https://localhost:8080/",
          "height": 36
        },
        "outputId": "1e7b8996-acc7-417e-d855-09fc1b5d815d"
      },
      "outputs": [
        {
          "output_type": "execute_result",
          "data": {
            "text/plain": [
              "'hello world'"
            ],
            "application/vnd.google.colaboratory.intrinsic+json": {
              "type": "string"
            }
          },
          "metadata": {},
          "execution_count": 27
        }
      ],
      "source": [
        "#Everything\n",
        "s[:]"
      ]
    },
    {
      "cell_type": "code",
      "execution_count": null,
      "metadata": {
        "id": "rAuXqpW9c9ZC",
        "colab": {
          "base_uri": "https://localhost:8080/",
          "height": 36
        },
        "outputId": "9bd95f29-80aa-427c-dc9c-ccb1f8a832e8"
      },
      "outputs": [
        {
          "output_type": "execute_result",
          "data": {
            "text/plain": [
              "'d'"
            ],
            "application/vnd.google.colaboratory.intrinsic+json": {
              "type": "string"
            }
          },
          "metadata": {},
          "execution_count": 28
        }
      ],
      "source": [
        "# Last letter (one index behind 0 so it loops back around)\n",
        "s[-1]\n"
      ]
    },
    {
      "cell_type": "code",
      "execution_count": null,
      "metadata": {
        "id": "Qa41v49ec9ZC",
        "colab": {
          "base_uri": "https://localhost:8080/",
          "height": 36
        },
        "outputId": "cbed9366-ad5b-4c2a-8ef5-c5ea052093ca"
      },
      "outputs": [
        {
          "output_type": "execute_result",
          "data": {
            "text/plain": [
              "'hello worl'"
            ],
            "application/vnd.google.colaboratory.intrinsic+json": {
              "type": "string"
            }
          },
          "metadata": {},
          "execution_count": 31
        }
      ],
      "source": [
        "# Grab everything but the last letter\n",
        "s[:-1]\n"
      ]
    },
    {
      "cell_type": "code",
      "execution_count": null,
      "metadata": {
        "id": "fCuzRRuic9ZC",
        "colab": {
          "base_uri": "https://localhost:8080/",
          "height": 36
        },
        "outputId": "ae06a546-9551-4001-8488-ba7b394cd348"
      },
      "outputs": [
        {
          "output_type": "execute_result",
          "data": {
            "text/plain": [
              "'hello world'"
            ],
            "application/vnd.google.colaboratory.intrinsic+json": {
              "type": "string"
            }
          },
          "metadata": {},
          "execution_count": 32
        }
      ],
      "source": [
        "# Grab everything, but go in steps size of 1\n",
        "s[::1]"
      ]
    },
    {
      "cell_type": "code",
      "execution_count": null,
      "metadata": {
        "id": "l0wAXJPtc9ZC",
        "colab": {
          "base_uri": "https://localhost:8080/",
          "height": 36
        },
        "outputId": "045a13e8-a680-4745-ba6a-e3014a1e1b79"
      },
      "outputs": [
        {
          "output_type": "execute_result",
          "data": {
            "text/plain": [
              "'hlowrd'"
            ],
            "application/vnd.google.colaboratory.intrinsic+json": {
              "type": "string"
            }
          },
          "metadata": {},
          "execution_count": 33
        }
      ],
      "source": [
        "# Grab everything, but go in step sizes of 2\n",
        "s[::2]"
      ]
    },
    {
      "cell_type": "code",
      "execution_count": null,
      "metadata": {
        "id": "UftNiuQrc9ZC",
        "colab": {
          "base_uri": "https://localhost:8080/",
          "height": 36
        },
        "outputId": "05d0cfea-ec5b-4f47-8e95-b86b962dbaaa"
      },
      "outputs": [
        {
          "output_type": "execute_result",
          "data": {
            "text/plain": [
              "'dlrow olleh'"
            ],
            "application/vnd.google.colaboratory.intrinsic+json": {
              "type": "string"
            }
          },
          "metadata": {},
          "execution_count": 34
        }
      ],
      "source": [
        "# We can use this to print a string backwards\n",
        "s[::-1]"
      ]
    },
    {
      "cell_type": "markdown",
      "source": [
        "### String properties"
      ],
      "metadata": {
        "id": "Z1c2cdGr0uka"
      }
    },
    {
      "cell_type": "code",
      "source": [
        "s"
      ],
      "metadata": {
        "colab": {
          "base_uri": "https://localhost:8080/",
          "height": 36
        },
        "id": "46eO-_8f0y19",
        "outputId": "92108c4c-53bb-44ac-a47c-9a758bc62d27"
      },
      "execution_count": null,
      "outputs": [
        {
          "output_type": "execute_result",
          "data": {
            "text/plain": [
              "'hello world'"
            ],
            "application/vnd.google.colaboratory.intrinsic+json": {
              "type": "string"
            }
          },
          "metadata": {},
          "execution_count": 35
        }
      ]
    },
    {
      "cell_type": "code",
      "execution_count": null,
      "metadata": {
        "id": "HUpFh5-rc9ZC",
        "colab": {
          "base_uri": "https://localhost:8080/",
          "height": 182
        },
        "outputId": "f9553383-1ebf-48d1-bb8d-d7ca458d0c9f"
      },
      "outputs": [
        {
          "output_type": "error",
          "ename": "TypeError",
          "evalue": "ignored",
          "traceback": [
            "\u001b[0;31m---------------------------------------------------------------------------\u001b[0m",
            "\u001b[0;31mTypeError\u001b[0m                                 Traceback (most recent call last)",
            "\u001b[0;32m<ipython-input-36-846579400c99>\u001b[0m in \u001b[0;36m<module>\u001b[0;34m\u001b[0m\n\u001b[1;32m      1\u001b[0m \u001b[0;31m# Let's try to change the first letter to 'x'\u001b[0m\u001b[0;34m\u001b[0m\u001b[0;34m\u001b[0m\u001b[0;34m\u001b[0m\u001b[0m\n\u001b[0;32m----> 2\u001b[0;31m \u001b[0ms\u001b[0m\u001b[0;34m[\u001b[0m\u001b[0;36m0\u001b[0m\u001b[0;34m]\u001b[0m\u001b[0;34m=\u001b[0m\u001b[0;34m'x'\u001b[0m\u001b[0;34m\u001b[0m\u001b[0;34m\u001b[0m\u001b[0m\n\u001b[0m",
            "\u001b[0;31mTypeError\u001b[0m: 'str' object does not support item assignment"
          ]
        }
      ],
      "source": [
        "# Let's try to change the first letter to 'x'\n",
        "s[0]='x'"
      ]
    },
    {
      "cell_type": "code",
      "source": [
        "s"
      ],
      "metadata": {
        "colab": {
          "base_uri": "https://localhost:8080/",
          "height": 36
        },
        "id": "A-2KATJl1BZZ",
        "outputId": "5ee3559a-16d4-4d1d-ad13-31e71fa69a16"
      },
      "execution_count": null,
      "outputs": [
        {
          "output_type": "execute_result",
          "data": {
            "text/plain": [
              "'hello world'"
            ],
            "application/vnd.google.colaboratory.intrinsic+json": {
              "type": "string"
            }
          },
          "metadata": {},
          "execution_count": 37
        }
      ]
    },
    {
      "cell_type": "code",
      "source": [
        "#concatenate strings!\n",
        "s+' raksha'"
      ],
      "metadata": {
        "colab": {
          "base_uri": "https://localhost:8080/",
          "height": 36
        },
        "id": "Tx0F9Fph1Dv8",
        "outputId": "17b4324c-adb7-4b50-ca7d-d942b825be90"
      },
      "execution_count": null,
      "outputs": [
        {
          "output_type": "execute_result",
          "data": {
            "text/plain": [
              "'hello world raksha'"
            ],
            "application/vnd.google.colaboratory.intrinsic+json": {
              "type": "string"
            }
          },
          "metadata": {},
          "execution_count": 39
        }
      ]
    },
    {
      "cell_type": "code",
      "source": [
        "#we can reassign s completely though!\n",
        "s=s+' raksha'"
      ],
      "metadata": {
        "id": "Q0rqW3E_1Joo"
      },
      "execution_count": null,
      "outputs": []
    },
    {
      "cell_type": "code",
      "source": [
        "print(s)"
      ],
      "metadata": {
        "colab": {
          "base_uri": "https://localhost:8080/"
        },
        "id": "XxK6-VKT1QhK",
        "outputId": "c2661144-7f1a-4620-9b56-a68362c3105d"
      },
      "execution_count": null,
      "outputs": [
        {
          "output_type": "stream",
          "name": "stdout",
          "text": [
            "hello world raksha\n"
          ]
        }
      ]
    },
    {
      "cell_type": "code",
      "source": [
        "s"
      ],
      "metadata": {
        "colab": {
          "base_uri": "https://localhost:8080/",
          "height": 36
        },
        "id": "nhi4EvRQ1R7T",
        "outputId": "20079c64-7cf7-4ceb-8786-d17b95ec49cb"
      },
      "execution_count": null,
      "outputs": [
        {
          "output_type": "execute_result",
          "data": {
            "text/plain": [
              "'hello world raksha'"
            ],
            "application/vnd.google.colaboratory.intrinsic+json": {
              "type": "string"
            }
          },
          "metadata": {},
          "execution_count": 42
        }
      ]
    },
    {
      "cell_type": "code",
      "source": [
        "#repetation\n",
        "letter='r'"
      ],
      "metadata": {
        "id": "KKww8iSC1S7H"
      },
      "execution_count": null,
      "outputs": []
    },
    {
      "cell_type": "code",
      "source": [
        "letter*22"
      ],
      "metadata": {
        "colab": {
          "base_uri": "https://localhost:8080/",
          "height": 36
        },
        "id": "DOKG3MhW1Tea",
        "outputId": "d4a8c36d-38c2-4d52-9eff-cefeee6331f3"
      },
      "execution_count": null,
      "outputs": [
        {
          "output_type": "execute_result",
          "data": {
            "text/plain": [
              "'rrrrrrrrrrrrrrrrrrrrrr'"
            ],
            "application/vnd.google.colaboratory.intrinsic+json": {
              "type": "string"
            }
          },
          "metadata": {},
          "execution_count": 44
        }
      ]
    },
    {
      "cell_type": "markdown",
      "source": [
        "### Basic Built-in String methods"
      ],
      "metadata": {
        "id": "gVnPQuwm3Kz9"
      }
    },
    {
      "cell_type": "code",
      "source": [
        "s"
      ],
      "metadata": {
        "colab": {
          "base_uri": "https://localhost:8080/",
          "height": 36
        },
        "id": "YPIFnzUw3Mf1",
        "outputId": "fe851f2e-3acc-4dc8-dbb9-d4309b31f156"
      },
      "execution_count": null,
      "outputs": [
        {
          "output_type": "execute_result",
          "data": {
            "text/plain": [
              "'hello world raksha'"
            ],
            "application/vnd.google.colaboratory.intrinsic+json": {
              "type": "string"
            }
          },
          "metadata": {},
          "execution_count": 45
        }
      ]
    },
    {
      "cell_type": "code",
      "source": [
        "#upper case a string\n",
        "s.upper()"
      ],
      "metadata": {
        "colab": {
          "base_uri": "https://localhost:8080/",
          "height": 36
        },
        "id": "DEiZe4Dp3QlO",
        "outputId": "6eb48c6b-18e8-43c9-d706-6232ca05fdb1"
      },
      "execution_count": null,
      "outputs": [
        {
          "output_type": "execute_result",
          "data": {
            "text/plain": [
              "'HELLO WORLD RAKSHA'"
            ],
            "application/vnd.google.colaboratory.intrinsic+json": {
              "type": "string"
            }
          },
          "metadata": {},
          "execution_count": 46
        }
      ]
    },
    {
      "cell_type": "code",
      "source": [
        "#lower case\n",
        "s.lower()"
      ],
      "metadata": {
        "colab": {
          "base_uri": "https://localhost:8080/",
          "height": 36
        },
        "id": "GBbeDTuf3WG2",
        "outputId": "698e3e93-f86e-469c-cb69-f81b9aced7a4"
      },
      "execution_count": null,
      "outputs": [
        {
          "output_type": "execute_result",
          "data": {
            "text/plain": [
              "'hello world raksha'"
            ],
            "application/vnd.google.colaboratory.intrinsic+json": {
              "type": "string"
            }
          },
          "metadata": {},
          "execution_count": 47
        }
      ]
    },
    {
      "cell_type": "code",
      "source": [
        "#split a string by blank space(this is the default)\n",
        "s.split()"
      ],
      "metadata": {
        "colab": {
          "base_uri": "https://localhost:8080/"
        },
        "id": "-d6lIFdQ3X9z",
        "outputId": "35259d7b-af82-45c7-b727-6ecf3ff6781c"
      },
      "execution_count": null,
      "outputs": [
        {
          "output_type": "execute_result",
          "data": {
            "text/plain": [
              "['hello', 'world', 'raksha']"
            ]
          },
          "metadata": {},
          "execution_count": 48
        }
      ]
    },
    {
      "cell_type": "code",
      "source": [
        "#split by a specific element(doesn't include the element that was split on)\n",
        "s.split('o')"
      ],
      "metadata": {
        "colab": {
          "base_uri": "https://localhost:8080/"
        },
        "id": "NDCk8Drg3jm8",
        "outputId": "df6fccd7-0e82-4094-c513-132c30b51c77"
      },
      "execution_count": null,
      "outputs": [
        {
          "output_type": "execute_result",
          "data": {
            "text/plain": [
              "['hell', ' w', 'rld raksha']"
            ]
          },
          "metadata": {},
          "execution_count": 50
        }
      ]
    },
    {
      "cell_type": "markdown",
      "source": [
        "### Print Formating"
      ],
      "metadata": {
        "id": "6juoQkoG40r3"
      }
    },
    {
      "cell_type": "code",
      "source": [
        "'raksha:{}'.format({'hegde'})"
      ],
      "metadata": {
        "colab": {
          "base_uri": "https://localhost:8080/",
          "height": 36
        },
        "id": "5IYx2sTh45vm",
        "outputId": "21672930-ba68-426e-fe08-5e990b5844bb"
      },
      "execution_count": null,
      "outputs": [
        {
          "output_type": "execute_result",
          "data": {
            "text/plain": [
              "\"raksha:{'hegde'}\""
            ],
            "application/vnd.google.colaboratory.intrinsic+json": {
              "type": "string"
            }
          },
          "metadata": {},
          "execution_count": 51
        }
      ]
    },
    {
      "cell_type": "markdown",
      "source": [
        "### Location and Counting"
      ],
      "metadata": {
        "id": "2J4CHr_K6GF4"
      }
    },
    {
      "cell_type": "code",
      "source": [
        "print(s)\n",
        "s.count('o')"
      ],
      "metadata": {
        "colab": {
          "base_uri": "https://localhost:8080/"
        },
        "id": "kLUCWxLN6Kq4",
        "outputId": "7deb37b1-9879-4ca6-e0c0-bc405a12b3b1"
      },
      "execution_count": null,
      "outputs": [
        {
          "output_type": "stream",
          "name": "stdout",
          "text": [
            "hello world raksha\n"
          ]
        },
        {
          "output_type": "execute_result",
          "data": {
            "text/plain": [
              "2"
            ]
          },
          "metadata": {},
          "execution_count": 52
        }
      ]
    },
    {
      "cell_type": "code",
      "source": [
        "s.find('o')"
      ],
      "metadata": {
        "colab": {
          "base_uri": "https://localhost:8080/"
        },
        "id": "A2M_-ZKo6vb2",
        "outputId": "dbf99627-c9a1-4fd6-a33b-62972e27d287"
      },
      "execution_count": null,
      "outputs": [
        {
          "output_type": "execute_result",
          "data": {
            "text/plain": [
              "4"
            ]
          },
          "metadata": {},
          "execution_count": 53
        }
      ]
    },
    {
      "cell_type": "markdown",
      "source": [
        "### Formatting"
      ],
      "metadata": {
        "id": "RQnmye6-6z1U"
      }
    },
    {
      "cell_type": "code",
      "source": [
        "s='hello world raksha'"
      ],
      "metadata": {
        "id": "3DlCt2vksyKr"
      },
      "execution_count": null,
      "outputs": []
    },
    {
      "cell_type": "code",
      "source": [
        "#center\n",
        "s.center(40,'r')"
      ],
      "metadata": {
        "id": "9d4tsAxw622b",
        "colab": {
          "base_uri": "https://localhost:8080/",
          "height": 36
        },
        "outputId": "54b26bb3-b680-487c-839c-5e53304de91d"
      },
      "execution_count": null,
      "outputs": [
        {
          "output_type": "execute_result",
          "data": {
            "text/plain": [
              "'rrrrrrrrrrrhello world raksharrrrrrrrrrr'"
            ],
            "application/vnd.google.colaboratory.intrinsic+json": {
              "type": "string"
            }
          },
          "metadata": {},
          "execution_count": 5
        }
      ]
    },
    {
      "cell_type": "code",
      "source": [
        "#expand tabs\n",
        "'hello\\thi'.expandtabs()"
      ],
      "metadata": {
        "id": "aL2osz9M7Dnq",
        "colab": {
          "base_uri": "https://localhost:8080/",
          "height": 36
        },
        "outputId": "3c5ed24a-8f40-49a0-fce9-e8682e46b555"
      },
      "execution_count": null,
      "outputs": [
        {
          "output_type": "execute_result",
          "data": {
            "text/plain": [
              "'hello   hi'"
            ],
            "application/vnd.google.colaboratory.intrinsic+json": {
              "type": "string"
            }
          },
          "metadata": {},
          "execution_count": 6
        }
      ]
    },
    {
      "cell_type": "markdown",
      "source": [
        "### is check methods"
      ],
      "metadata": {
        "id": "01MEn9VOtxVL"
      }
    },
    {
      "cell_type": "code",
      "source": [
        "s='hello'"
      ],
      "metadata": {
        "id": "9aXbsXhgtztW"
      },
      "execution_count": null,
      "outputs": []
    },
    {
      "cell_type": "code",
      "source": [
        "#isalnum()\n",
        "s.isalnum()"
      ],
      "metadata": {
        "colab": {
          "base_uri": "https://localhost:8080/"
        },
        "id": "z2GCoCrdt3nn",
        "outputId": "48f1b16f-b782-4bc8-a7c1-06b04cb10fd2"
      },
      "execution_count": null,
      "outputs": [
        {
          "output_type": "execute_result",
          "data": {
            "text/plain": [
              "True"
            ]
          },
          "metadata": {},
          "execution_count": 8
        }
      ]
    },
    {
      "cell_type": "code",
      "source": [
        "#isalpha\n",
        "s.isalpha()"
      ],
      "metadata": {
        "colab": {
          "base_uri": "https://localhost:8080/"
        },
        "id": "wn8m1AjCt6zb",
        "outputId": "9435019a-1636-4368-e5b6-f5d5ef4c969b"
      },
      "execution_count": null,
      "outputs": [
        {
          "output_type": "execute_result",
          "data": {
            "text/plain": [
              "True"
            ]
          },
          "metadata": {},
          "execution_count": 10
        }
      ]
    },
    {
      "cell_type": "code",
      "source": [
        "#islower()\n",
        "s.islower()"
      ],
      "metadata": {
        "colab": {
          "base_uri": "https://localhost:8080/"
        },
        "id": "yXusgl9St9Nv",
        "outputId": "34ae5d00-e4aa-43ea-882c-ed128f41366f"
      },
      "execution_count": null,
      "outputs": [
        {
          "output_type": "execute_result",
          "data": {
            "text/plain": [
              "True"
            ]
          },
          "metadata": {},
          "execution_count": 11
        }
      ]
    },
    {
      "cell_type": "code",
      "source": [
        "#isspace()\n",
        "s.isspace()"
      ],
      "metadata": {
        "colab": {
          "base_uri": "https://localhost:8080/"
        },
        "id": "TTQ1RjL3uCzP",
        "outputId": "3af0bf70-4a4d-4ae3-8783-4cdea87368d8"
      },
      "execution_count": null,
      "outputs": [
        {
          "output_type": "execute_result",
          "data": {
            "text/plain": [
              "False"
            ]
          },
          "metadata": {},
          "execution_count": 12
        }
      ]
    },
    {
      "cell_type": "code",
      "source": [
        "#istitle()\n",
        "s.istitle()"
      ],
      "metadata": {
        "colab": {
          "base_uri": "https://localhost:8080/"
        },
        "id": "bi-TW2b7uFz4",
        "outputId": "aea8f833-c512-4ee4-c7d6-92c82340217c"
      },
      "execution_count": null,
      "outputs": [
        {
          "output_type": "execute_result",
          "data": {
            "text/plain": [
              "False"
            ]
          },
          "metadata": {},
          "execution_count": 13
        }
      ]
    },
    {
      "cell_type": "code",
      "source": [
        "#isupper()\n",
        "s.isupper()"
      ],
      "metadata": {
        "colab": {
          "base_uri": "https://localhost:8080/"
        },
        "id": "uvjxY12EuIUp",
        "outputId": "c6ca957c-edfa-407c-92f9-1ce037695dd1"
      },
      "execution_count": null,
      "outputs": [
        {
          "output_type": "execute_result",
          "data": {
            "text/plain": [
              "False"
            ]
          },
          "metadata": {},
          "execution_count": 14
        }
      ]
    },
    {
      "cell_type": "code",
      "source": [
        "#endswidth()\n",
        "s.endswith('o')"
      ],
      "metadata": {
        "colab": {
          "base_uri": "https://localhost:8080/"
        },
        "id": "whOlguXnuNQW",
        "outputId": "56d1271c-1abf-4ed1-95d6-3a625ee2b56d"
      },
      "execution_count": null,
      "outputs": [
        {
          "output_type": "execute_result",
          "data": {
            "text/plain": [
              "True"
            ]
          },
          "metadata": {},
          "execution_count": 17
        }
      ]
    },
    {
      "cell_type": "markdown",
      "source": [
        "### Built-in Reg. Expressions"
      ],
      "metadata": {
        "id": "-dntoBonuWDQ"
      }
    },
    {
      "cell_type": "code",
      "source": [
        "s='hello'"
      ],
      "metadata": {
        "id": "qHKb75-nRMio"
      },
      "execution_count": null,
      "outputs": []
    },
    {
      "cell_type": "code",
      "source": [
        "s.split('e')"
      ],
      "metadata": {
        "id": "psRYJBWmuaAE",
        "colab": {
          "base_uri": "https://localhost:8080/"
        },
        "outputId": "97a3d49a-0dd9-4098-e9b4-5ff61af33670"
      },
      "execution_count": null,
      "outputs": [
        {
          "output_type": "execute_result",
          "data": {
            "text/plain": [
              "['h', 'llo']"
            ]
          },
          "metadata": {},
          "execution_count": 4
        }
      ]
    },
    {
      "cell_type": "code",
      "source": [
        "s.partition('e')"
      ],
      "metadata": {
        "id": "Rq6Hh-gMubEY",
        "colab": {
          "base_uri": "https://localhost:8080/"
        },
        "outputId": "17a54052-6b55-428e-9ea6-6c48baa2bba7"
      },
      "execution_count": null,
      "outputs": [
        {
          "output_type": "execute_result",
          "data": {
            "text/plain": [
              "('h', 'e', 'llo')"
            ]
          },
          "metadata": {},
          "execution_count": 5
        }
      ]
    },
    {
      "cell_type": "code",
      "source": [
        "s"
      ],
      "metadata": {
        "id": "vDID74OfubS2",
        "colab": {
          "base_uri": "https://localhost:8080/",
          "height": 36
        },
        "outputId": "4dc8ba68-6b20-479d-8bcf-60f43aa4c2eb"
      },
      "execution_count": null,
      "outputs": [
        {
          "output_type": "execute_result",
          "data": {
            "text/plain": [
              "'hello'"
            ],
            "application/vnd.google.colaboratory.intrinsic+json": {
              "type": "string"
            }
          },
          "metadata": {},
          "execution_count": 6
        }
      ]
    },
    {
      "cell_type": "markdown",
      "source": [
        "### Lists"
      ],
      "metadata": {
        "id": "24tb4qZruc_c"
      }
    },
    {
      "cell_type": "code",
      "source": [
        "# Assign a list to an variable named my_list\n",
        "my_list=[1,2,3]"
      ],
      "metadata": {
        "id": "vmiWhk7WuhcT"
      },
      "execution_count": null,
      "outputs": []
    },
    {
      "cell_type": "code",
      "source": [
        "my_list=['hello',23,100,'r']\n",
        "my_list"
      ],
      "metadata": {
        "id": "B9PVfAb1unZ2",
        "colab": {
          "base_uri": "https://localhost:8080/"
        },
        "outputId": "a295d7ee-8ae1-4570-e49f-7d2264ee3ec5"
      },
      "execution_count": null,
      "outputs": [
        {
          "output_type": "execute_result",
          "data": {
            "text/plain": [
              "['hello', 23, 100, 'r']"
            ]
          },
          "metadata": {},
          "execution_count": 8
        }
      ]
    },
    {
      "cell_type": "code",
      "source": [
        "#len()\n",
        "len(my_list)"
      ],
      "metadata": {
        "id": "yMN5YK5dunrZ",
        "colab": {
          "base_uri": "https://localhost:8080/"
        },
        "outputId": "ea06aff8-cfbd-414f-fe2a-d77b5f522588"
      },
      "execution_count": null,
      "outputs": [
        {
          "output_type": "execute_result",
          "data": {
            "text/plain": [
              "4"
            ]
          },
          "metadata": {},
          "execution_count": 10
        }
      ]
    },
    {
      "cell_type": "markdown",
      "source": [
        "### Indexing and slicing"
      ],
      "metadata": {
        "id": "Ls84UAFnRgwm"
      }
    },
    {
      "cell_type": "code",
      "source": [
        "my_list"
      ],
      "metadata": {
        "colab": {
          "base_uri": "https://localhost:8080/"
        },
        "id": "VVXoIpVFRluZ",
        "outputId": "59371186-53a2-450f-dafd-793189b2a9bb"
      },
      "execution_count": null,
      "outputs": [
        {
          "output_type": "execute_result",
          "data": {
            "text/plain": [
              "['hello', 23, 100, 'r']"
            ]
          },
          "metadata": {},
          "execution_count": 11
        }
      ]
    },
    {
      "cell_type": "code",
      "source": [
        "# Grab element at index 0\n",
        "my_list[0]"
      ],
      "metadata": {
        "colab": {
          "base_uri": "https://localhost:8080/",
          "height": 36
        },
        "id": "8RYnzKHIRnpH",
        "outputId": "c59c9741-6b9f-47a9-a88a-acb368108ea3"
      },
      "execution_count": null,
      "outputs": [
        {
          "output_type": "execute_result",
          "data": {
            "text/plain": [
              "'hello'"
            ],
            "application/vnd.google.colaboratory.intrinsic+json": {
              "type": "string"
            }
          },
          "metadata": {},
          "execution_count": 12
        }
      ]
    },
    {
      "cell_type": "code",
      "execution_count": null,
      "metadata": {
        "id": "oP_7TrtGPwnj",
        "colab": {
          "base_uri": "https://localhost:8080/"
        },
        "outputId": "3ae43957-809a-46f8-ad88-3a6bf67a7876"
      },
      "outputs": [
        {
          "output_type": "execute_result",
          "data": {
            "text/plain": [
              "[23, 100, 'r']"
            ]
          },
          "metadata": {},
          "execution_count": 13
        }
      ],
      "source": [
        "# Grab index 1 and everything past it\n",
        "my_list[1:]\n"
      ]
    },
    {
      "cell_type": "code",
      "execution_count": null,
      "metadata": {
        "id": "Ky2DFt2SPwnj",
        "colab": {
          "base_uri": "https://localhost:8080/"
        },
        "outputId": "2337d233-5f09-40d2-bc17-b42d0999e2de"
      },
      "outputs": [
        {
          "output_type": "execute_result",
          "data": {
            "text/plain": [
              "['hello', 23, 100]"
            ]
          },
          "metadata": {},
          "execution_count": 14
        }
      ],
      "source": [
        "# Grab everything UP TO index 3\n",
        "my_list[:3]\n"
      ]
    },
    {
      "cell_type": "code",
      "source": [
        "#CONCATINATE\n",
        "my_list+['raksha']\n"
      ],
      "metadata": {
        "colab": {
          "base_uri": "https://localhost:8080/"
        },
        "id": "ro7zsLo5Rw4Y",
        "outputId": "7367f936-ec2b-4f83-94fa-0aa06cd7bb30"
      },
      "execution_count": null,
      "outputs": [
        {
          "output_type": "execute_result",
          "data": {
            "text/plain": [
              "['hello', 23, 100, 'r', 'raksha']"
            ]
          },
          "metadata": {},
          "execution_count": 15
        }
      ]
    },
    {
      "cell_type": "code",
      "source": [
        "#doesn't change the original list\n",
        "my_list"
      ],
      "metadata": {
        "colab": {
          "base_uri": "https://localhost:8080/"
        },
        "id": "22vCaNthR14c",
        "outputId": "c3e84136-1f80-49eb-f3be-52d31f35856f"
      },
      "execution_count": null,
      "outputs": [
        {
          "output_type": "execute_result",
          "data": {
            "text/plain": [
              "['hello', 23, 100, 'r']"
            ]
          },
          "metadata": {},
          "execution_count": 16
        }
      ]
    },
    {
      "cell_type": "code",
      "execution_count": null,
      "metadata": {
        "id": "1r7RSgOKPwnk",
        "colab": {
          "base_uri": "https://localhost:8080/"
        },
        "outputId": "fd45a8e7-d3c4-4dbd-8401-2fde793b479e"
      },
      "outputs": [
        {
          "output_type": "execute_result",
          "data": {
            "text/plain": [
              "['hello', 23, 100, 'r', 'raksha']"
            ]
          },
          "metadata": {},
          "execution_count": 17
        }
      ],
      "source": [
        "#permanent change\n",
        "# Reassign\n",
        "my_list=my_list+['raksha']\n",
        "my_list"
      ]
    },
    {
      "cell_type": "code",
      "source": [
        "my_list"
      ],
      "metadata": {
        "colab": {
          "base_uri": "https://localhost:8080/"
        },
        "id": "Wax1PH33SEJJ",
        "outputId": "b6d4908c-7a5f-4f65-f139-56546f11f666"
      },
      "execution_count": null,
      "outputs": [
        {
          "output_type": "execute_result",
          "data": {
            "text/plain": [
              "['hello', 23, 100, 'r', 'raksha']"
            ]
          },
          "metadata": {},
          "execution_count": 18
        }
      ]
    },
    {
      "cell_type": "code",
      "execution_count": null,
      "metadata": {
        "id": "2Ntfhsu6Pwnr",
        "colab": {
          "base_uri": "https://localhost:8080/"
        },
        "outputId": "43fd5ccd-03f4-4801-aeee-f406297a06e7"
      },
      "outputs": [
        {
          "output_type": "execute_result",
          "data": {
            "text/plain": [
              "['hello', 23, 100, 'r', 'raksha', 'hello', 23, 100, 'r', 'raksha']"
            ]
          },
          "metadata": {},
          "execution_count": 19
        }
      ],
      "source": [
        "#duplication method\n",
        "# Make the list double\n",
        "my_list*2"
      ]
    },
    {
      "cell_type": "code",
      "execution_count": null,
      "metadata": {
        "id": "1zAb1pAmPwnr",
        "colab": {
          "base_uri": "https://localhost:8080/"
        },
        "outputId": "c1dbea64-7cd6-49f4-b0d4-cb9a6cddc813"
      },
      "outputs": [
        {
          "output_type": "execute_result",
          "data": {
            "text/plain": [
              "['hello', 23, 100, 'r', 'raksha']"
            ]
          },
          "metadata": {},
          "execution_count": 20
        }
      ],
      "source": [
        "# Again doubling not permanent\n",
        "my_list"
      ]
    },
    {
      "cell_type": "markdown",
      "source": [
        "### Basic list methods"
      ],
      "metadata": {
        "id": "orpU8olpTxIA"
      }
    },
    {
      "cell_type": "code",
      "source": [
        "#create a new list\n",
        "l=[1,2,3]"
      ],
      "metadata": {
        "id": "1sq47EHIT2hx"
      },
      "execution_count": null,
      "outputs": []
    },
    {
      "cell_type": "code",
      "execution_count": null,
      "metadata": {
        "id": "w_O05kIlPwns"
      },
      "outputs": [],
      "source": [
        "# Append\n",
        "l.append('hey')"
      ]
    },
    {
      "cell_type": "code",
      "execution_count": null,
      "metadata": {
        "id": "V0geOHluPwns",
        "colab": {
          "base_uri": "https://localhost:8080/"
        },
        "outputId": "9cac3836-72dc-4e27-bf55-719c0a352ad0"
      },
      "outputs": [
        {
          "output_type": "execute_result",
          "data": {
            "text/plain": [
              "[1, 2, 3, 'hey']"
            ]
          },
          "metadata": {},
          "execution_count": 23
        }
      ],
      "source": [
        "# Show\n",
        "l"
      ]
    },
    {
      "cell_type": "code",
      "execution_count": null,
      "metadata": {
        "id": "sGq3MKViPwns",
        "colab": {
          "base_uri": "https://localhost:8080/"
        },
        "outputId": "8dd58bc9-945b-447d-aae3-9aa08b088f17"
      },
      "outputs": [
        {
          "output_type": "execute_result",
          "data": {
            "text/plain": [
              "1"
            ]
          },
          "metadata": {},
          "execution_count": 24
        }
      ],
      "source": [
        "# Pop off the 0 indexed item\n",
        "l.pop(0)"
      ]
    },
    {
      "cell_type": "code",
      "execution_count": null,
      "metadata": {
        "id": "rFtViFQHPwns",
        "colab": {
          "base_uri": "https://localhost:8080/"
        },
        "outputId": "190ba0ba-bb0f-4398-8f07-dead0c83f6d2"
      },
      "outputs": [
        {
          "output_type": "execute_result",
          "data": {
            "text/plain": [
              "[2, 3, 'hey']"
            ]
          },
          "metadata": {},
          "execution_count": 25
        }
      ],
      "source": [
        "# Show\n",
        "l"
      ]
    },
    {
      "cell_type": "code",
      "execution_count": null,
      "metadata": {
        "id": "sCktVA15Pwns"
      },
      "outputs": [],
      "source": [
        "# Assign the popped element, remember default popped index is -1\n",
        "popped_item=l.pop()"
      ]
    },
    {
      "cell_type": "code",
      "source": [
        "popped_item"
      ],
      "metadata": {
        "colab": {
          "base_uri": "https://localhost:8080/",
          "height": 36
        },
        "id": "J2KFHhQqUVOR",
        "outputId": "af4388a5-d272-4ba3-e0be-51508f9eb36e"
      },
      "execution_count": null,
      "outputs": [
        {
          "output_type": "execute_result",
          "data": {
            "text/plain": [
              "'hey'"
            ],
            "application/vnd.google.colaboratory.intrinsic+json": {
              "type": "string"
            }
          },
          "metadata": {},
          "execution_count": 27
        }
      ]
    },
    {
      "cell_type": "code",
      "execution_count": null,
      "metadata": {
        "id": "1jke20rXPwns",
        "colab": {
          "base_uri": "https://localhost:8080/"
        },
        "outputId": "f516ad5e-d599-4e75-e308-ddf95daa1afb"
      },
      "outputs": [
        {
          "output_type": "execute_result",
          "data": {
            "text/plain": [
              "[2, 3]"
            ]
          },
          "metadata": {},
          "execution_count": 28
        }
      ],
      "source": [
        "# Show remaining list\n",
        "l"
      ]
    },
    {
      "cell_type": "code",
      "source": [
        "l[100]"
      ],
      "metadata": {
        "colab": {
          "base_uri": "https://localhost:8080/",
          "height": 165
        },
        "id": "zS4UsteCUYTQ",
        "outputId": "f6563221-278b-4f6b-d804-3e46babcbc86"
      },
      "execution_count": null,
      "outputs": [
        {
          "output_type": "error",
          "ename": "IndexError",
          "evalue": "ignored",
          "traceback": [
            "\u001b[0;31m---------------------------------------------------------------------------\u001b[0m",
            "\u001b[0;31mIndexError\u001b[0m                                Traceback (most recent call last)",
            "\u001b[0;32m<ipython-input-29-e2a0c2623844>\u001b[0m in \u001b[0;36m<module>\u001b[0;34m\u001b[0m\n\u001b[0;32m----> 1\u001b[0;31m \u001b[0ml\u001b[0m\u001b[0;34m[\u001b[0m\u001b[0;36m100\u001b[0m\u001b[0;34m]\u001b[0m\u001b[0;34m\u001b[0m\u001b[0;34m\u001b[0m\u001b[0m\n\u001b[0m",
            "\u001b[0;31mIndexError\u001b[0m: list index out of range"
          ]
        }
      ]
    },
    {
      "cell_type": "code",
      "source": [
        "a=['a','b','c','d']"
      ],
      "metadata": {
        "id": "9-WHdzTZUZwP"
      },
      "execution_count": null,
      "outputs": []
    },
    {
      "cell_type": "code",
      "source": [
        "#show\n",
        "a"
      ],
      "metadata": {
        "colab": {
          "base_uri": "https://localhost:8080/"
        },
        "id": "guxZNmmqUaJM",
        "outputId": "5f573725-b1e6-4776-b0c7-5c33648187e3"
      },
      "execution_count": null,
      "outputs": [
        {
          "output_type": "execute_result",
          "data": {
            "text/plain": [
              "['a', 'b', 'c', 'd']"
            ]
          },
          "metadata": {},
          "execution_count": 32
        }
      ]
    },
    {
      "cell_type": "code",
      "execution_count": null,
      "metadata": {
        "id": "_1CpceeyPwnt"
      },
      "outputs": [],
      "source": [
        "# Use reverse to reverse order (this is permanent!)\n",
        "a.reverse()"
      ]
    },
    {
      "cell_type": "code",
      "source": [
        "a"
      ],
      "metadata": {
        "colab": {
          "base_uri": "https://localhost:8080/"
        },
        "id": "GhTlRjcOUfV-",
        "outputId": "57c5c97c-c9af-4e75-ea12-23ab38726f43"
      },
      "execution_count": null,
      "outputs": [
        {
          "output_type": "execute_result",
          "data": {
            "text/plain": [
              "['d', 'c', 'b', 'a']"
            ]
          },
          "metadata": {},
          "execution_count": 34
        }
      ]
    },
    {
      "cell_type": "code",
      "execution_count": null,
      "metadata": {
        "id": "H6xamtvqPwnt"
      },
      "outputs": [],
      "source": [
        "# Use sort to sort the list (in this case alphabetical order, but for numbers it will go ascending)\n",
        "a.sort()"
      ]
    },
    {
      "cell_type": "code",
      "source": [
        "a"
      ],
      "metadata": {
        "colab": {
          "base_uri": "https://localhost:8080/"
        },
        "id": "WTWH1gFFUh8x",
        "outputId": "4e8994d7-45d8-4c1b-b9b3-a2ffbcfa1c74"
      },
      "execution_count": null,
      "outputs": [
        {
          "output_type": "execute_result",
          "data": {
            "text/plain": [
              "['a', 'b', 'c', 'd']"
            ]
          },
          "metadata": {},
          "execution_count": 36
        }
      ]
    },
    {
      "cell_type": "markdown",
      "source": [
        "### Nesting Lists"
      ],
      "metadata": {
        "id": "kVqkt5QCUnC_"
      }
    },
    {
      "cell_type": "code",
      "execution_count": null,
      "metadata": {
        "id": "dLMkgWHmPwnt"
      },
      "outputs": [],
      "source": [
        "# Let's make three lists\n",
        "a=[1,2,3]\n",
        "b=[4,5,6]\n",
        "c=[7,8,9]\n",
        "# Make a list of lists to form a matrix\n",
        "matrix=[a,b,c]"
      ]
    },
    {
      "cell_type": "code",
      "source": [
        "#show\n",
        "matrix"
      ],
      "metadata": {
        "colab": {
          "base_uri": "https://localhost:8080/"
        },
        "id": "3KWb4kHlUtEk",
        "outputId": "9c035b70-6940-487b-a450-d167cd118b4b"
      },
      "execution_count": null,
      "outputs": [
        {
          "output_type": "execute_result",
          "data": {
            "text/plain": [
              "[[1, 2, 3], [4, 5, 6], [7, 8, 9]]"
            ]
          },
          "metadata": {},
          "execution_count": 38
        }
      ]
    },
    {
      "cell_type": "code",
      "execution_count": null,
      "metadata": {
        "id": "efcKUBOhPwnt",
        "colab": {
          "base_uri": "https://localhost:8080/"
        },
        "outputId": "bf9794c3-f9f5-42e0-dab0-b27b2cd4b688"
      },
      "outputs": [
        {
          "output_type": "execute_result",
          "data": {
            "text/plain": [
              "[1, 2, 3]"
            ]
          },
          "metadata": {},
          "execution_count": 41
        }
      ],
      "source": [
        "# Grab first item in matrix object\n",
        "matrix[0]"
      ]
    },
    {
      "cell_type": "code",
      "execution_count": null,
      "metadata": {
        "id": "FLik68eUPwnt",
        "colab": {
          "base_uri": "https://localhost:8080/"
        },
        "outputId": "bc6d2367-5a26-4467-8097-38fae418468e"
      },
      "outputs": [
        {
          "output_type": "execute_result",
          "data": {
            "text/plain": [
              "1"
            ]
          },
          "metadata": {},
          "execution_count": 42
        }
      ],
      "source": [
        "# Grab first item of the first item in the matrix object\n",
        "matrix[0][0]"
      ]
    },
    {
      "cell_type": "markdown",
      "source": [
        "### List Comprehensions"
      ],
      "metadata": {
        "id": "r6QrJOM8U6cD"
      }
    },
    {
      "cell_type": "code",
      "execution_count": null,
      "metadata": {
        "id": "D9zXzHHNPwnu"
      },
      "outputs": [],
      "source": [
        "# Build a list comprehension by deconstructing a for loop within a []\n",
        "first_col=[row[0] for row in matrix]"
      ]
    },
    {
      "cell_type": "code",
      "source": [
        "first_col"
      ],
      "metadata": {
        "colab": {
          "base_uri": "https://localhost:8080/"
        },
        "id": "sD49Df94U-qQ",
        "outputId": "787c41f9-a8f3-4c5f-bc88-b58d1652a84a"
      },
      "execution_count": null,
      "outputs": [
        {
          "output_type": "execute_result",
          "data": {
            "text/plain": [
              "[1, 4, 7]"
            ]
          },
          "metadata": {},
          "execution_count": 45
        }
      ]
    },
    {
      "cell_type": "markdown",
      "source": [
        "### Advanced Lists"
      ],
      "metadata": {
        "id": "mU0ghIwTVCpm"
      }
    },
    {
      "cell_type": "code",
      "source": [
        "l=[1,2,3]"
      ],
      "metadata": {
        "id": "qdSh9ZTBVG46"
      },
      "execution_count": null,
      "outputs": []
    },
    {
      "cell_type": "markdown",
      "source": [
        "### append"
      ],
      "metadata": {
        "id": "ULP0iTggVHxW"
      }
    },
    {
      "cell_type": "code",
      "source": [
        "l.append(4)\n",
        "l"
      ],
      "metadata": {
        "colab": {
          "base_uri": "https://localhost:8080/"
        },
        "id": "69TES_hsVLdD",
        "outputId": "e6aa58a3-ec91-4d05-ca00-38d2ccf1cbb2"
      },
      "execution_count": null,
      "outputs": [
        {
          "output_type": "execute_result",
          "data": {
            "text/plain": [
              "[1, 2, 3, '4', 4, 4]"
            ]
          },
          "metadata": {},
          "execution_count": 52
        }
      ]
    },
    {
      "cell_type": "markdown",
      "source": [
        "### count"
      ],
      "metadata": {
        "id": "zZ1Y2AbEVNKy"
      }
    },
    {
      "cell_type": "code",
      "source": [
        "l.count(10)"
      ],
      "metadata": {
        "colab": {
          "base_uri": "https://localhost:8080/"
        },
        "id": "l6E-XFFlVQVW",
        "outputId": "0c38efd5-e2a4-43b9-b4ff-e716a0bfb1c4"
      },
      "execution_count": null,
      "outputs": [
        {
          "output_type": "execute_result",
          "data": {
            "text/plain": [
              "0"
            ]
          },
          "metadata": {},
          "execution_count": 53
        }
      ]
    },
    {
      "cell_type": "code",
      "source": [
        "l.count(2)"
      ],
      "metadata": {
        "colab": {
          "base_uri": "https://localhost:8080/"
        },
        "id": "7jTy-rzQVQhT",
        "outputId": "388e1610-e997-42ce-d443-87f16015ee38"
      },
      "execution_count": null,
      "outputs": [
        {
          "output_type": "execute_result",
          "data": {
            "text/plain": [
              "1"
            ]
          },
          "metadata": {},
          "execution_count": 54
        }
      ]
    },
    {
      "cell_type": "markdown",
      "source": [
        "### extend"
      ],
      "metadata": {
        "id": "WoDKVpy0VRpR"
      }
    },
    {
      "cell_type": "code",
      "source": [
        "x=[1,2,3]\n",
        "x.append([4,5])\n",
        "print(x)"
      ],
      "metadata": {
        "colab": {
          "base_uri": "https://localhost:8080/"
        },
        "id": "QFQ2Ff94VWfP",
        "outputId": "27655bec-9ea3-46bc-f4b3-31694838be09"
      },
      "execution_count": null,
      "outputs": [
        {
          "output_type": "stream",
          "name": "stdout",
          "text": [
            "[1, 2, 3, [4, 5]]\n"
          ]
        }
      ]
    },
    {
      "cell_type": "code",
      "source": [
        "x=[1,2,3]\n",
        "x.extend([4,5])\n",
        "x"
      ],
      "metadata": {
        "colab": {
          "base_uri": "https://localhost:8080/"
        },
        "id": "VC3tdLcJVW2H",
        "outputId": "770cc907-9ac0-44e0-df15-11ebbe4c76b7"
      },
      "execution_count": null,
      "outputs": [
        {
          "output_type": "execute_result",
          "data": {
            "text/plain": [
              "[1, 2, 3, 4, 5]"
            ]
          },
          "metadata": {},
          "execution_count": 57
        }
      ]
    },
    {
      "cell_type": "markdown",
      "source": [
        "### index"
      ],
      "metadata": {
        "id": "rFIKDQ6bVfGb"
      }
    },
    {
      "cell_type": "code",
      "source": [
        "l=[1,2,3]\n",
        "print(l)\n",
        "l.index(2)"
      ],
      "metadata": {
        "colab": {
          "base_uri": "https://localhost:8080/"
        },
        "id": "KEt6OjJAVhH1",
        "outputId": "9d6cf70f-17f9-45a1-bebc-8e71c6bcd980"
      },
      "execution_count": null,
      "outputs": [
        {
          "output_type": "stream",
          "name": "stdout",
          "text": [
            "[1, 2, 3]\n"
          ]
        },
        {
          "output_type": "execute_result",
          "data": {
            "text/plain": [
              "1"
            ]
          },
          "metadata": {},
          "execution_count": 59
        }
      ]
    },
    {
      "cell_type": "code",
      "source": [
        "l.index(12)"
      ],
      "metadata": {
        "colab": {
          "base_uri": "https://localhost:8080/",
          "height": 165
        },
        "id": "jAhMJhQ2VhWH",
        "outputId": "423d7184-5d31-4a3e-ddee-8c31d1a86f3a"
      },
      "execution_count": null,
      "outputs": [
        {
          "output_type": "error",
          "ename": "ValueError",
          "evalue": "ignored",
          "traceback": [
            "\u001b[0;31m---------------------------------------------------------------------------\u001b[0m",
            "\u001b[0;31mValueError\u001b[0m                                Traceback (most recent call last)",
            "\u001b[0;32m<ipython-input-60-da9218b18168>\u001b[0m in \u001b[0;36m<module>\u001b[0;34m\u001b[0m\n\u001b[0;32m----> 1\u001b[0;31m \u001b[0ml\u001b[0m\u001b[0;34m.\u001b[0m\u001b[0mindex\u001b[0m\u001b[0;34m(\u001b[0m\u001b[0;36m12\u001b[0m\u001b[0;34m)\u001b[0m\u001b[0;34m\u001b[0m\u001b[0;34m\u001b[0m\u001b[0m\n\u001b[0m",
            "\u001b[0;31mValueError\u001b[0m: 12 is not in list"
          ]
        }
      ]
    },
    {
      "cell_type": "markdown",
      "source": [
        "### insert"
      ],
      "metadata": {
        "id": "nQCMRmFhVkTi"
      }
    },
    {
      "cell_type": "code",
      "source": [
        "l"
      ],
      "metadata": {
        "colab": {
          "base_uri": "https://localhost:8080/"
        },
        "id": "UvhPTtbtVmE5",
        "outputId": "42bf3d73-4343-4e30-a98e-aa77a32a7833"
      },
      "execution_count": null,
      "outputs": [
        {
          "output_type": "execute_result",
          "data": {
            "text/plain": [
              "[1, 2, 3]"
            ]
          },
          "metadata": {},
          "execution_count": 61
        }
      ]
    },
    {
      "cell_type": "code",
      "execution_count": null,
      "metadata": {
        "id": "wj8VnIW6Pwnw"
      },
      "outputs": [],
      "source": [
        "# Place a letter at the index 2\n",
        "l.insert(2,\"raksh\")"
      ]
    },
    {
      "cell_type": "code",
      "source": [
        "l"
      ],
      "metadata": {
        "colab": {
          "base_uri": "https://localhost:8080/"
        },
        "id": "ZQpFzSogVovH",
        "outputId": "0fcee2ad-ada8-4ec1-b7ea-2e641507c64b"
      },
      "execution_count": null,
      "outputs": [
        {
          "output_type": "execute_result",
          "data": {
            "text/plain": [
              "[1, 2, 'raksh', 3]"
            ]
          },
          "metadata": {},
          "execution_count": 63
        }
      ]
    },
    {
      "cell_type": "markdown",
      "source": [
        "### pop"
      ],
      "metadata": {
        "id": "wOsM4u0rVp4q"
      }
    },
    {
      "cell_type": "code",
      "source": [
        "lil=l.pop()"
      ],
      "metadata": {
        "id": "bSgt-Y40Vsg0"
      },
      "execution_count": null,
      "outputs": []
    },
    {
      "cell_type": "code",
      "source": [
        "l"
      ],
      "metadata": {
        "colab": {
          "base_uri": "https://localhost:8080/"
        },
        "id": "K3qD-ozVVsuu",
        "outputId": "6ef60240-7b0d-4aa9-ad2b-3a17e98d8dff"
      },
      "execution_count": null,
      "outputs": [
        {
          "output_type": "execute_result",
          "data": {
            "text/plain": [
              "[1, 2]"
            ]
          },
          "metadata": {},
          "execution_count": 69
        }
      ]
    },
    {
      "cell_type": "code",
      "source": [
        "lil"
      ],
      "metadata": {
        "colab": {
          "base_uri": "https://localhost:8080/",
          "height": 36
        },
        "id": "XhhaGGblVs7z",
        "outputId": "31c9869a-2f8d-4bcf-88c2-fc73ce58d15e"
      },
      "execution_count": null,
      "outputs": [
        {
          "output_type": "execute_result",
          "data": {
            "text/plain": [
              "'raksh'"
            ],
            "application/vnd.google.colaboratory.intrinsic+json": {
              "type": "string"
            }
          },
          "metadata": {},
          "execution_count": 68
        }
      ]
    },
    {
      "cell_type": "markdown",
      "source": [
        "### remove"
      ],
      "metadata": {
        "id": "5S8hC03qV-pY"
      }
    },
    {
      "cell_type": "code",
      "source": [
        "l"
      ],
      "metadata": {
        "colab": {
          "base_uri": "https://localhost:8080/"
        },
        "id": "MecNG2fyWBiF",
        "outputId": "622991e9-5aa1-44d5-a9a9-33eb923e867b"
      },
      "execution_count": null,
      "outputs": [
        {
          "output_type": "execute_result",
          "data": {
            "text/plain": [
              "[1, 4, 3]"
            ]
          },
          "metadata": {},
          "execution_count": 85
        }
      ]
    },
    {
      "cell_type": "code",
      "source": [
        "l.remove(2)"
      ],
      "metadata": {
        "colab": {
          "base_uri": "https://localhost:8080/",
          "height": 165
        },
        "id": "H60Id05gWBu7",
        "outputId": "e10c0ade-1baa-45bd-b746-4d8b332612d5"
      },
      "execution_count": null,
      "outputs": [
        {
          "output_type": "error",
          "ename": "ValueError",
          "evalue": "ignored",
          "traceback": [
            "\u001b[0;31m---------------------------------------------------------------------------\u001b[0m",
            "\u001b[0;31mValueError\u001b[0m                                Traceback (most recent call last)",
            "\u001b[0;32m<ipython-input-87-2110d8e9703c>\u001b[0m in \u001b[0;36m<module>\u001b[0;34m\u001b[0m\n\u001b[0;32m----> 1\u001b[0;31m \u001b[0ml\u001b[0m\u001b[0;34m.\u001b[0m\u001b[0mremove\u001b[0m\u001b[0;34m(\u001b[0m\u001b[0;36m2\u001b[0m\u001b[0;34m)\u001b[0m\u001b[0;34m\u001b[0m\u001b[0;34m\u001b[0m\u001b[0m\n\u001b[0m",
            "\u001b[0;31mValueError\u001b[0m: list.remove(x): x not in list"
          ]
        }
      ]
    },
    {
      "cell_type": "code",
      "source": [
        "l"
      ],
      "metadata": {
        "colab": {
          "base_uri": "https://localhost:8080/"
        },
        "id": "VoGq1imcWB7l",
        "outputId": "c958bea1-54b9-4128-ab1b-4e187080bb54"
      },
      "execution_count": null,
      "outputs": [
        {
          "output_type": "execute_result",
          "data": {
            "text/plain": [
              "[1, 4, 3]"
            ]
          },
          "metadata": {},
          "execution_count": 88
        }
      ]
    },
    {
      "cell_type": "code",
      "source": [
        "l=[1,2,3,4,3]"
      ],
      "metadata": {
        "id": "J0ZZodq6WCIl"
      },
      "execution_count": null,
      "outputs": []
    },
    {
      "cell_type": "code",
      "source": [
        "l.remove(3)"
      ],
      "metadata": {
        "id": "Mg_Q6jv4WCWB"
      },
      "execution_count": null,
      "outputs": []
    },
    {
      "cell_type": "code",
      "source": [
        "l"
      ],
      "metadata": {
        "colab": {
          "base_uri": "https://localhost:8080/"
        },
        "id": "jJH-grxkWCiX",
        "outputId": "89296cee-759a-4515-b555-671572370d2e"
      },
      "execution_count": null,
      "outputs": [
        {
          "output_type": "execute_result",
          "data": {
            "text/plain": [
              "[1, 2, 4, 3]"
            ]
          },
          "metadata": {},
          "execution_count": 75
        }
      ]
    },
    {
      "cell_type": "markdown",
      "source": [
        "### reverse"
      ],
      "metadata": {
        "id": "EcpP2f9rWDtC"
      }
    },
    {
      "cell_type": "code",
      "source": [
        "l.reverse()"
      ],
      "metadata": {
        "id": "oW_dvfCiWkOB"
      },
      "execution_count": null,
      "outputs": []
    },
    {
      "cell_type": "code",
      "source": [
        "l"
      ],
      "metadata": {
        "colab": {
          "base_uri": "https://localhost:8080/"
        },
        "id": "ntjCMBL4WkY0",
        "outputId": "ea3f8bac-0020-4edb-a8da-9fb556ce39c3"
      },
      "execution_count": null,
      "outputs": [
        {
          "output_type": "execute_result",
          "data": {
            "text/plain": [
              "[3, 4, 1]"
            ]
          },
          "metadata": {},
          "execution_count": 90
        }
      ]
    },
    {
      "cell_type": "markdown",
      "source": [
        "### sort"
      ],
      "metadata": {
        "id": "NQQtXzgBWmXc"
      }
    },
    {
      "cell_type": "code",
      "source": [
        "l"
      ],
      "metadata": {
        "colab": {
          "base_uri": "https://localhost:8080/"
        },
        "id": "9ORDxlfGWpMa",
        "outputId": "ad22c14c-0d95-495a-cf5c-8ba7c4a93df1"
      },
      "execution_count": null,
      "outputs": [
        {
          "output_type": "execute_result",
          "data": {
            "text/plain": [
              "[3, 4, 1]"
            ]
          },
          "metadata": {},
          "execution_count": 91
        }
      ]
    },
    {
      "cell_type": "code",
      "source": [
        "l.sort()"
      ],
      "metadata": {
        "id": "L2_oEgRbWpUY"
      },
      "execution_count": null,
      "outputs": []
    },
    {
      "cell_type": "code",
      "source": [
        "l"
      ],
      "metadata": {
        "colab": {
          "base_uri": "https://localhost:8080/"
        },
        "id": "8waYRI6cWpdu",
        "outputId": "8866834c-0b99-422c-b5a5-ad1e1e9f1fca"
      },
      "execution_count": null,
      "outputs": [
        {
          "output_type": "execute_result",
          "data": {
            "text/plain": [
              "[1, 3, 4]"
            ]
          },
          "metadata": {},
          "execution_count": 93
        }
      ]
    }
  ]
}